{
 "cells": [
  {
   "cell_type": "markdown",
   "metadata": {},
   "source": [
    "# Advanced methods in *python*: classes and libraries\n",
    "This tutorial presents an introduction to advanced methods in _python_ for the MSc Statistics students (class of 2022). \n",
    "\n",
    "> **Authors:** Yu Luo, Francesco Sanna Passino  \n",
    "> **Affiliation:** Department of Mathematics, Imperial College London  \n",
    "> **Email:** `{yu.luo,f.sannapassino}@imperial.ac.uk`\n",
    "\n",
    "## 1. Classes\n",
    "\n",
    "In previous notebooks in this tutorial, *python* objects such as integers, lists, dictionaries, *NumPy* arrays, and functions have been introduced. Every object has a *type*, as discussed in the tutorial about the basics of *python*. Object types are created using *classes*: a class is the building block of all data structures in *python*. In particular, creating a new class creates a new type of object, allowing new instances of that type to be made. This shows that *python* has a different programming paradigm compared to *R*:\n",
    "* *python* is an *object-oriented* programming language (OOP): objects contain data and code (data as attributes, and code as methods); \n",
    "* *R* is a *functional* programming language: programs are constructed by applying and composing functions.\n",
    "\n",
    "Importantly, classes and objects represent *things* (a person, a car, *a statistical model*), defined by attributes (data) given to them and methods (functions) to operate on them. The next section will give a simple example of a class, followed by a more advanced example on a univariate Gaussian mixture model fitted with the EM algorithm. \n",
    "\n",
    "### 1.1. A simple example of a class: `person`\n",
    "In *python*, classes are defined using the command `class`, followed by a class *name*. When a new instance of a  class is created, the object must be initialised. Therefore, the first method (*function*) defined in each class is denoted `__init__`, which *automatically* runs when the class is created. The following code chunk defines a class `person`, with attributes (*data*) name and age:"
   ]
  },
  {
   "cell_type": "code",
   "execution_count": 1,
   "metadata": {},
   "outputs": [],
   "source": [
    "class person(object):\n",
    "    def __init__(self, name, age):\n",
    "        self.name = name\n",
    "        self.age = age"
   ]
  },
  {
   "cell_type": "markdown",
   "metadata": {},
   "source": [
    "Note that the class itself is denoted with the keyword `self`. This is a convention in *python* (other programming languages use other keywords, for example `this`), but *any* other keyword can be used instead. \n",
    "\n",
    "A new instance of the class `person` can be simply defined by calling `person`, providing data attributes for `name` and `age`:  "
   ]
  },
  {
   "cell_type": "code",
   "execution_count": 2,
   "metadata": {},
   "outputs": [
    {
     "name": "stdout",
     "output_type": "stream",
     "text": [
      "My name is Francesco and I am 27 years old.\n",
      "<class '__main__.person'>\n",
      "<__main__.person object at 0x7f791ef209a0>\n"
     ]
    }
   ],
   "source": [
    "FSP = person(name='Francesco', age=27)\n",
    "print('My name is', FSP.name, 'and I am', FSP.age, 'years old.')\n",
    "print(type(FSP))\n",
    "print(FSP)"
   ]
  },
  {
   "cell_type": "markdown",
   "metadata": {},
   "source": [
    "The output of `print` is very uninformative. This can be changed via `__str__`:"
   ]
  },
  {
   "cell_type": "code",
   "execution_count": 3,
   "metadata": {},
   "outputs": [],
   "source": [
    "class person(object):\n",
    "    def __init__(self, name, age):\n",
    "        self.name = name\n",
    "        self.age = age\n",
    "    \n",
    "    def __str__(self):\n",
    "        return 'This person is ' + self.name + ' and they are ' + str(self.age) + ' years old.'"
   ]
  },
  {
   "cell_type": "code",
   "execution_count": 4,
   "metadata": {},
   "outputs": [
    {
     "name": "stdout",
     "output_type": "stream",
     "text": [
      "This person is Francesco and they are 27 years old.\n"
     ]
    }
   ],
   "source": [
    "FSP = person(name='Francesco', age=27)\n",
    "print(FSP)"
   ]
  },
  {
   "cell_type": "markdown",
   "metadata": {},
   "source": [
    "Data attributes in the `person` class can be changed easily:"
   ]
  },
  {
   "cell_type": "code",
   "execution_count": 5,
   "metadata": {},
   "outputs": [
    {
     "name": "stdout",
     "output_type": "stream",
     "text": [
      "Frank\n"
     ]
    }
   ],
   "source": [
    "FSP.name = 'Frank'\n",
    "print(FSP.name)"
   ]
  },
  {
   "cell_type": "markdown",
   "metadata": {},
   "source": [
    "A better approach is to define methods to set and get the name within the class: "
   ]
  },
  {
   "cell_type": "code",
   "execution_count": 6,
   "metadata": {},
   "outputs": [],
   "source": [
    "class person(object):\n",
    "    def __init__(self, name, age):\n",
    "        self.name = name\n",
    "        self.age = age\n",
    "    \n",
    "    def __str__(self):\n",
    "        return 'This person is ' + self.name + ' and they are ' + str(self.age) + ' years old.'\n",
    "    \n",
    "    def get_name(self):\n",
    "        return self.name\n",
    "\n",
    "    def set_name(self, name):\n",
    "        self.name = name"
   ]
  },
  {
   "cell_type": "code",
   "execution_count": 7,
   "metadata": {},
   "outputs": [
    {
     "name": "stdout",
     "output_type": "stream",
     "text": [
      "Francesco\n",
      "Frank\n"
     ]
    }
   ],
   "source": [
    "FSP = person(name='Francesco', age=27)\n",
    "print(FSP.get_name())\n",
    "FSP.set_name('Frank')\n",
    "print(FSP.get_name())"
   ]
  },
  {
   "cell_type": "markdown",
   "metadata": {},
   "source": [
    "As described before, it is possible to define *methods*, representing functions associated with the class. For example, the method `age_difference` calculates the age difference (in absolute values) between two `person` objects. Similarly, the method `get_initial` gets the first letter of the name and adds it to the class as data attribute `initial`. "
   ]
  },
  {
   "cell_type": "code",
   "execution_count": 8,
   "metadata": {},
   "outputs": [],
   "source": [
    "import numpy as np\n",
    "\n",
    "class person(object):\n",
    "    def __init__(self, name, age):\n",
    "        self.name = name\n",
    "        self.age = age\n",
    "    \n",
    "    def __str__(self):\n",
    "        return 'This person is ' + self.name + ' and they are ' + str(self.age) + ' years old.'\n",
    "    \n",
    "    def get_name(self):\n",
    "        return self.name\n",
    "\n",
    "    def set_name(self, name):\n",
    "        self.name = name\n",
    "        \n",
    "    def age_difference(self, person):\n",
    "        return np.abs(self.age - person.age)\n",
    "    \n",
    "    def get_initial(self):\n",
    "        self.initial = self.name[0]"
   ]
  },
  {
   "cell_type": "code",
   "execution_count": 9,
   "metadata": {},
   "outputs": [
    {
     "data": {
      "text/plain": [
       "10"
      ]
     },
     "execution_count": 9,
     "metadata": {},
     "output_type": "execute_result"
    }
   ],
   "source": [
    "FSP = person(name='Francesco', age=27)\n",
    "Lewis_Hamilton = person(name='Lewis', age=37)\n",
    "FSP.age_difference(Lewis_Hamilton)"
   ]
  },
  {
   "cell_type": "markdown",
   "metadata": {},
   "source": [
    "Alternatively:"
   ]
  },
  {
   "cell_type": "code",
   "execution_count": 10,
   "metadata": {},
   "outputs": [
    {
     "data": {
      "text/plain": [
       "10"
      ]
     },
     "execution_count": 10,
     "metadata": {},
     "output_type": "execute_result"
    }
   ],
   "source": [
    "person.age_difference(FSP, Lewis_Hamilton)"
   ]
  },
  {
   "cell_type": "markdown",
   "metadata": {},
   "source": [
    "Note that `FSP` does not have the attribute `initial` at this stage (check the output of `hasattr` with argument `initial`!). The initial is only available after running `get_initial`:"
   ]
  },
  {
   "cell_type": "code",
   "execution_count": 11,
   "metadata": {},
   "outputs": [
    {
     "name": "stdout",
     "output_type": "stream",
     "text": [
      "False\n",
      "True\n",
      "F\n"
     ]
    }
   ],
   "source": [
    "print(hasattr(FSP,'initial'))\n",
    "FSP.get_initial()\n",
    "print(hasattr(FSP,'initial'))\n",
    "print(FSP.initial)"
   ]
  },
  {
   "cell_type": "markdown",
   "metadata": {},
   "source": [
    "### 1.2. A class for univariate Gaussian mixture models\n",
    "In this section, a class for fitting univariate Gaussian mixture models is described. In Gaussian mixture models, it is assumed that the observations are generated from a mixture of $K$ Gaussian distributions with unknown mean and variance. The distributions are weighted by mixing proportions $(\\pi_1,\\dots,\\pi_K)$, where $\\pi_k\\geq 0$ and $\\sum_{k=1}^K\\pi_k=1$, and each distribution has its own mean $\\mu_k$ and variance $\\sigma^2_k,\\ k=1,\\dots,K$. The density of an individual observation from a univariate Gaussian mixture is:\n",
    "$$\n",
    "f(x) = \\sum_{k=1}^K \\pi_k \\phi(x; \\mu_k, \\sigma^2_k), \n",
    "$$\n",
    "where $\\phi(x;\\mu,\\sigma^2)$ is the PDF of a Gaussian distribution with mean $\\mu$ and variance $\\sigma^2$, evaluated at $x$.\n",
    "\n",
    "Gaussian mixture models are traditionally used for *clustering*, which is the task of dividing observations into meaningful groups. In the following code box, $n=500$ data points are simulated from a 60-40 mixture of two Gaussian distributions with parameters $(0,0.5)$ and $(4,1)$ respectively:"
   ]
  },
  {
   "cell_type": "code",
   "execution_count": 12,
   "metadata": {},
   "outputs": [],
   "source": [
    "## Number of data points\n",
    "n = 500\n",
    "## Group-specific parameters\n",
    "mu = np.array([0,4])\n",
    "sigma2 = np.array([0.5, 1])\n",
    "pi = np.array([0.6,0.4])\n",
    "## Group allocation\n",
    "z = np.random.choice(2,size=n)\n",
    "## Simulate data from the model\n",
    "x = np.random.normal(loc=mu[z], scale=np.sqrt(sigma2[z]))"
   ]
  },
  {
   "cell_type": "markdown",
   "metadata": {},
   "source": [
    "The histogram, density estimate, and scatterplot clearly show that there are two groups in the simulated data:"
   ]
  },
  {
   "cell_type": "code",
   "execution_count": 13,
   "metadata": {},
   "outputs": [
    {
     "data": {
      "image/png": "[encoded data removed]",
      "text/plain": [
       "<Figure size 432x288 with 1 Axes>"
      ]
     },
     "metadata": {
      "needs_background": "light"
     },
     "output_type": "display_data"
    }
   ],
   "source": [
    "import matplotlib.pyplot as plt\n",
    "from scipy.stats import gaussian_kde as kde\n",
    "plt.hist(x, bins=35, color='lightgray', density=True, histtype=u'step', lw=2)\n",
    "kernel = kde(x, bw_method='silverman')\n",
    "positions = np.linspace(np.nanmin(x),np.nanmax(x), 150)\n",
    "plt.plot(positions, kernel(positions), lw=3, label='Gaussian KDE')\n",
    "plt.show()"
   ]
  },
  {
   "cell_type": "code",
   "execution_count": 14,
   "metadata": {},
   "outputs": [
    {
     "data": {
      "image/png": "[encoded data removed]",
      "text/plain": [
       "<Figure size 432x288 with 1 Axes>"
      ]
     },
     "metadata": {
      "needs_background": "light"
     },
     "output_type": "display_data"
    }
   ],
   "source": [
    "plt.scatter(x,z,c=np.array(['red','green'])[z], s=1)\n",
    "plt.ylabel('Label'); plt.xlabel('Observation')\n",
    "plt.show()"
   ]
  },
  {
   "cell_type": "markdown",
   "metadata": {},
   "source": [
    "The inferential objective is usually to recover the latent groups $\\mathbf z=(z_1,\\dots,z_n)$, where $z_i\\in\\{1,\\dots,K\\}$. \n",
    "\n",
    "GMMs do not admit a closed form solution for the maximum likelihood estimator. Therefore, iterative algorithms must be used for estimation, such as the expectation-maximisation (EM) algorithm. The EM algorithm for a univariate Gaussian mixture consists in the following two steps, repeated iteratively:\n",
    "\n",
    "* E-step - Given parameter estimates $\\hat\\pi_{k,t},\\hat\\mu_{k,t}, \\hat\\sigma^2_{k,t}$, $k=1,\\dots,K$, calculate the *responsibilities* $\\zeta_{i,k,t} \\propto \\hat\\pi_{k,t} \\phi(x; \\hat\\mu_{k,t}, \\hat\\sigma^2_{k,t})$ for each observation.\n",
    "* M-step - Calculate updated parameter estimates:\n",
    "\\begin{align}\n",
    "\\hat\\pi_{k,t+1} = \\frac{1}{n}\\sum_{i=1}^{n} \\zeta_{i,k,t}, & & \n",
    "\\hat\\mu_{k,t+1} = \\frac{\\sum_{i=1}^{n} \\zeta_{i,k,t} x_i}{\\sum_{i=1}^{n} \\zeta_{i,k,t}}, & &\n",
    "\\hat\\sigma^2_{k,t+1} = \\frac{\\sum_{i=1}^{n} \\zeta_{i,k,t} (x_i-\\hat\\mu_{k,t+1})^2}{\\sum_{i=1}^{n} \\zeta_{i,k,t}}.\n",
    "\\end{align}"
   ]
  },
  {
   "cell_type": "markdown",
   "metadata": {},
   "source": [
    "The following code block contains a class for univariate GMMs, fitted via the EM algorithm:"
   ]
  },
  {
   "cell_type": "code",
   "execution_count": 15,
   "metadata": {},
   "outputs": [],
   "source": [
    "import numpy as np\n",
    "import scipy.stats as stats\n",
    "\n",
    "class gmm:\n",
    "    def __init__(self, K):\n",
    "        self.K = K\n",
    "        \n",
    "    def fit(self, x, iterations=100, random_seed=111):\n",
    "        # Training data\n",
    "        self.x = x\n",
    "        self.n = len(x)\n",
    "        # Initialise zeta at random\n",
    "        np.random.seed(random_seed)\n",
    "        self.zeta = np.random.dirichlet(size=self.n, alpha = np.ones(self.K))\n",
    "        # Initialise parameter estimates from zeta\n",
    "        self.M_step()\n",
    "        # Repeat EM steps for iterations times\n",
    "        for _ in range(iterations):\n",
    "            print('Iteration:', _+1, end='\\r')\n",
    "            self.E_step()\n",
    "            self.M_step()\n",
    "\n",
    "    def E_step(self):\n",
    "        # Calculate responsibilities for each observation\n",
    "        for i in range(self.n):\n",
    "            self.zeta[i] = np.multiply(self.pi, stats.norm.pdf(self.x[i], loc=self.mu, scale=self.sigma))\n",
    "            self.zeta[i] /= np.sum(self.zeta[i]) \n",
    "\n",
    "    def M_step(self):\n",
    "        # Update parameter estimates\n",
    "        self.pi = np.mean(self.zeta, axis=0)\n",
    "        self.mu = np.sum(self.zeta * self.x.reshape(-1,1), axis=0) / np.sum(self.zeta, axis=0)\n",
    "        self.sigma = np.sqrt(np.sum(self.zeta * np.power(np.subtract.outer(self.x, self.mu), 2),\\\n",
    "                                    axis=0) / np.sum(self.zeta, axis=0))\n",
    "            \n",
    "    def get_labels(self):\n",
    "        # Obtain estimated labels\n",
    "        return np.argmax(self.zeta, axis=1)\n",
    "    \n",
    "    def predict(self, x_test):\n",
    "        # Predict labels for a new set of observations\n",
    "        zeta_pred = np.zeros((len(x_test), self.K))\n",
    "        for i in range(len(x_test)):\n",
    "            zeta_pred[i] = np.multiply(self.pi, stats.norm.pdf(x_test[i], loc=self.mu, scale=self.sigma))\n",
    "            zeta_pred[i] /= np.sum(zeta_pred[i])\n",
    "        return np.argmax(zeta_pred, axis=1)\n",
    "            \n",
    "    def fit_predict(self, x, iterations=100):\n",
    "        # Fit GMM and return estimated labels\n",
    "        self.fit(x, iterations)\n",
    "        return self.get_labels()"
   ]
  },
  {
   "cell_type": "markdown",
   "metadata": {},
   "source": [
    "The model is fitted to the simulated data `x` via the following commands:"
   ]
  },
  {
   "cell_type": "code",
   "execution_count": 16,
   "metadata": {},
   "outputs": [
    {
     "name": "stdout",
     "output_type": "stream",
     "text": [
      "Iteration: 100\r"
     ]
    }
   ],
   "source": [
    "m = gmm(K=2)\n",
    "m.fit(x)"
   ]
  },
  {
   "cell_type": "markdown",
   "metadata": {},
   "source": [
    "Labels are estimated via `get_labels()`:"
   ]
  },
  {
   "cell_type": "code",
   "execution_count": 17,
   "metadata": {},
   "outputs": [
    {
     "name": "stdout",
     "output_type": "stream",
     "text": [
      "Accuracy rate = 98.2 %\n"
     ]
    }
   ],
   "source": [
    "z_est = m.get_labels()\n",
    "print('Accuracy rate =', 100 * np.max([np.mean(z_est == z), np.mean(z_est != z)]), '%')"
   ]
  },
  {
   "cell_type": "markdown",
   "metadata": {},
   "source": [
    "Note that the labels in `z_est` are *not* identical to those in `z`, but the estimated groups are extremely similar (the `0`s and `1`s are just 'swapped'). In order to evaluate the performance of the clustering algorithm, the adjusted Rand index (ARI) could be used: "
   ]
  },
  {
   "cell_type": "code",
   "execution_count": 18,
   "metadata": {},
   "outputs": [
    {
     "name": "stdout",
     "output_type": "stream",
     "text": [
      "Adjusted Rand Index = 0.9292\n"
     ]
    }
   ],
   "source": [
    "from sklearn.metrics import adjusted_rand_score as ari\n",
    "print('Adjusted Rand Index =', round(ari(z, z_est), 4))"
   ]
  },
  {
   "cell_type": "markdown",
   "metadata": {},
   "source": [
    "The same output for `z_est` can be obtained by running `fit_predict`, which is a wrapper for `fit` & `get_labels`:"
   ]
  },
  {
   "cell_type": "code",
   "execution_count": 19,
   "metadata": {},
   "outputs": [
    {
     "name": "stdout",
     "output_type": "stream",
     "text": [
      "Iteration: 100\r"
     ]
    }
   ],
   "source": [
    "z_est2 = m.fit_predict(x)"
   ]
  },
  {
   "cell_type": "code",
   "execution_count": 20,
   "metadata": {},
   "outputs": [
    {
     "data": {
      "text/plain": [
       "True"
      ]
     },
     "execution_count": 20,
     "metadata": {},
     "output_type": "execute_result"
    }
   ],
   "source": [
    "np.all(z_est == z_est2) ## np.all checks if *all* elements in a boolean vector are True"
   ]
  },
  {
   "cell_type": "markdown",
   "metadata": {},
   "source": [
    "If new observations are obtained, the labels can be predicted with the following commands:"
   ]
  },
  {
   "cell_type": "code",
   "execution_count": 21,
   "metadata": {},
   "outputs": [
    {
     "name": "stdout",
     "output_type": "stream",
     "text": [
      "* New data points *\n",
      "Adjusted Rand Index = 0.8448\n"
     ]
    }
   ],
   "source": [
    "np.random.seed(177)\n",
    "## Group allocation for new data \n",
    "z_new = np.random.choice(2,size=100)\n",
    "## Simulate new data from the model\n",
    "x_new = np.random.normal(loc=mu[z_new], scale=np.sqrt(sigma2[z_new]))\n",
    "## Predict labels for new data points\n",
    "z_new_est = m.predict(x_new)\n",
    "## Calculate ARI for new data points\n",
    "print('* New data points *\\nAdjusted Rand Index =', round(ari(z_new, z_new_est), 4))"
   ]
  },
  {
   "cell_type": "markdown",
   "metadata": {},
   "source": [
    "Note that the behaviour of the class `gmm` is very similar to `GaussianMixture`, implemented in `sklearn.mixture`:"
   ]
  },
  {
   "cell_type": "code",
   "execution_count": 22,
   "metadata": {},
   "outputs": [
    {
     "name": "stdout",
     "output_type": "stream",
     "text": [
      "* Training data points *\n",
      "ARI = 0.9369\n",
      "\n",
      "* New data points *\n",
      "ARI = 0.96\n"
     ]
    }
   ],
   "source": [
    "from sklearn.mixture import GaussianMixture\n",
    "m_sklearn = GaussianMixture(n_components=2).fit(x.reshape(-1,1))\n",
    "z_est_sklearn = m_sklearn.predict(x.reshape(-1,1))\n",
    "z_new_est_sklearn = m_sklearn.predict(x_new.reshape(-1,1))\n",
    "print('* Training data points *\\nARI =', round(ari(z, z_est_sklearn), 4))\n",
    "print('\\n* New data points *\\nARI =', round(ari(z_new, z_new_est_sklearn), 4))"
   ]
  },
  {
   "cell_type": "markdown",
   "metadata": {},
   "source": [
    "## 2. Libraries"
   ]
  },
  {
   "cell_type": "markdown",
   "metadata": {},
   "source": [
    "In data analysis projects, it is very useful to keep utility functions in external files that are separate from the main script, and just import those in the main file. In *R*, this can be simply done by running the contents of the external script with the command `source` with the path to the file as argument. In *python*, this is not as straightforward: if the external file is in the current working directory (obtained with `os.getcwd()`), one could simply run `import namefile` (if the external file name is `namefile.py`). Otherwise, the working directory has to be changed to the location of the external file (with `os.chdir(path)`), and the file imported via `import namefile`. For example, the file `gaussian_mixture` in `notebooks` contains the class `gmm` defined in the previous section. This can be imported using the standard notation used for libraries:"
   ]
  },
  {
   "cell_type": "code",
   "execution_count": 23,
   "metadata": {},
   "outputs": [
    {
     "name": "stdout",
     "output_type": "stream",
     "text": [
      "<class 'gaussian_mixture.gmm'>\n"
     ]
    }
   ],
   "source": [
    "from gaussian_mixture import gmm\n",
    "import gaussian_mixture\n",
    "from gaussian_mixture import *\n",
    "m = gaussian_mixture.gmm(K=2)\n",
    "print(type(m))"
   ]
  },
  {
   "cell_type": "markdown",
   "metadata": {},
   "source": [
    "This is cumbersome and not ideal if the same utility functions are required across multiple projects and tasks. As a solution, it is very easy to create and install *user-defined libraries* in *python*. A user-defined library could be installed in editable mode using the command `pip -e` in a terminal. In this tutorial, an example library has been defined in the directory `lib/`. This library is called `my_library`, and it can be installed by running the following `bash` command from the top of the `pystats_msc` directory:\n",
    "```\n",
    "pip install -e lib/\n",
    "```\n",
    "The library can then be imported in *any python* session, just by running `import my_library`: "
   ]
  },
  {
   "cell_type": "code",
   "execution_count": 24,
   "metadata": {},
   "outputs": [],
   "source": [
    "import my_library"
   ]
  },
  {
   "cell_type": "markdown",
   "metadata": {},
   "source": [
    "The structure of the library is simple. First, check the contents of the file `lib/setup.py`: it contains the name and version of the library, and its dependencies (libraries required for `my_library` to work - in this case, *NumPy* and *SciPy*). In this file, the library `setuptools` is used, which is designed to facilitate the packaging of *python* projects. Second, `lib/my_library/__init__.py` contains the classes and functions that will be available in `my_library` (in this case, `test` and `normalise` from `utils.py` and *all* objects defined in `gaussian_mixture.py`). Third, the files `lib/my_library/utils.py` and `lib/my_library/gaussian_mixture.py` contain the definitions of the objects imported in `__init__.py`. This is all it is needed to have a *python* library! "
   ]
  },
  {
   "cell_type": "markdown",
   "metadata": {},
   "source": [
    "After installations, `my_library` can be used like any other library:"
   ]
  },
  {
   "cell_type": "code",
   "execution_count": 25,
   "metadata": {},
   "outputs": [
    {
     "name": "stdout",
     "output_type": "stream",
     "text": [
      "Hello MSc Statistics!\n"
     ]
    }
   ],
   "source": [
    "my_library.test()"
   ]
  },
  {
   "cell_type": "code",
   "execution_count": 26,
   "metadata": {},
   "outputs": [
    {
     "name": "stdout",
     "output_type": "stream",
     "text": [
      "[0.14285714 0.42857143 0.14285714 0.28571429]\n"
     ]
    }
   ],
   "source": [
    "y = np.array([1,3,1,2])\n",
    "print(my_library.normalise(y))"
   ]
  },
  {
   "cell_type": "code",
   "execution_count": 27,
   "metadata": {},
   "outputs": [
    {
     "name": "stdout",
     "output_type": "stream",
     "text": [
      "Iteration: 100\n",
      "Adjusted Rand Index = 0.9291542212855101\n"
     ]
    }
   ],
   "source": [
    "z_est = my_library.gmm(K=2).fit_predict(x)\n",
    "print('\\nAdjusted Rand Index =', ari(z, z_est))"
   ]
  },
  {
   "cell_type": "markdown",
   "metadata": {},
   "source": [
    "For summer projects, or any other data analysis project in *python*, it is *highly recommended* to create your own library. "
   ]
  },
  {
   "cell_type": "markdown",
   "metadata": {},
   "source": [
    "## Final exercise\n",
    "In this exercise, you will add to the library `my_library` a `class` for Gibbs sampling from a bivariate Gaussian distribution. The bivariate Gaussian will be parametrised as follows:\n",
    "\\begin{equation}\n",
    "\\begin{bmatrix} x_1 \\\\ x_2 \\end{bmatrix} \\sim \\mathbb N_2\\left(\\begin{bmatrix} \\mu_1 \\\\ \\mu_2 \\end{bmatrix}, \n",
    "\\begin{bmatrix} \\sigma_1^2 & \\rho\\sigma_1\\sigma_2 \\\\ \\rho\\sigma_1\\sigma_2 & \\sigma_2^2 \\end{bmatrix}\\right),\n",
    "\\end{equation}\n",
    "where $\\mu_1,\\mu_2\\in\\mathbb R$, $\\sigma_1,\\sigma_2\\in\\mathbb R_+$ and $\\rho\\in(-1,1)$. \n",
    "1. Following the example in the file `gaussian_mixture.py`, create a _python_ file `bivariate_gaussian.py` (using any text editor that you like, for example PyCharm or Visual Studio Code, both available with Anaconda). \n",
    "2. In the file `bivariate_gaussian.py`, define a class `biv_gauss`, which is initialised with 5 parameters: `mu1`, `mu2`, `sigma1`, `sigma2` and `rho`. \n",
    "3. Add a method `gibbs_sampling` to the class `biv_gauss`, which takes as argument the integer number of samples `n` to obtain from the distribution, and the starting points `x1` and `x2`. The method should return `n` samples from the distribution, obtained using Gibbs sampling. To implement your Gibbs sampler, you can use the following equations for the conditional distributions of Gaussian random variables:\n",
    "\\begin{align}\n",
    "x_1\\vert x_2\\sim\\mathbb N\\left(\\mu_1 + \\frac{\\rho\\sigma_1}{\\sigma_2}(x_2 - \\mu_2), (1-\\rho^2)\\sigma_1^2\\right),\n",
    "& & \n",
    "x_2\\vert x_1\\sim\\mathbb N\\left(\\mu_2 + \\frac{\\rho\\sigma_2}{\\sigma_1}(x_1 - \\mu_1), (1-\\rho^2)\\sigma_2^2\\right).\n",
    "\\end{align}\n",
    "4. Add your file and class to `lib/my_library/__init__.py`.\n",
    "5. Test `my_library.biv_gauss`. Does it return samples from the target distribution? What happens if the initial values are chosen to be far from the true mean of the distribution? "
   ]
  }
 ],
 "metadata": {
  "kernelspec": {
   "display_name": "Python 3",
   "language": "python",
   "name": "python3"
  },
  "language_info": {
   "codemirror_mode": {
    "name": "ipython",
    "version": 3
   },
   "file_extension": ".py",
   "mimetype": "text/x-python",
   "name": "python",
   "nbconvert_exporter": "python",
   "pygments_lexer": "ipython3",
   "version": "3.8.0"
  }
 },
 "nbformat": 4,
 "nbformat_minor": 4
}
