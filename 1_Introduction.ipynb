{
 "cells": [
  {
   "cell_type": "markdown",
   "metadata": {},
   "source": [
    "# Introduction to _python_"
   ]
  },
  {
   "cell_type": "markdown",
   "metadata": {},
   "source": [
    "This tutorial presents a simple introduction to _python_ for the MSc Statistics students (class of 2022). \n",
    "\n",
    "> **Authors:** Yu Luo, Francesco Sanna Passino  \n",
    "> **Affiliation:** Department of Mathematics, Imperial College London  \n",
    "> **Email:** `{yu.luo,f.sannapassino}@imperial.ac.uk`"
   ]
  },
  {
   "cell_type": "markdown",
   "metadata": {},
   "source": [
    "## 1. Data types"
   ]
  },
  {
   "cell_type": "markdown",
   "metadata": {},
   "source": [
    "Unlike *C* or *Java*, data types in _python_ are **not** defined when declaring the variable, similarly to _R_. "
   ]
  },
  {
   "cell_type": "code",
   "execution_count": 1,
   "metadata": {},
   "outputs": [
    {
     "data": {
      "text/plain": [
       "(1, 3.2)"
      ]
     },
     "execution_count": 1,
     "metadata": {},
     "output_type": "execute_result"
    }
   ],
   "source": [
    "x = 1\n",
    "y = 3.2\n",
    "x, y"
   ]
  },
  {
   "cell_type": "markdown",
   "metadata": {},
   "source": [
    "Note that the output is displayed as `(1, 3.2)`. This is called _tuple_ in *python*. More details about _lists_ and _tuples_ will be given in Section 2 of this tutorial.\n",
    "\n",
    "The type of the object can be obtained using the function `type`:"
   ]
  },
  {
   "cell_type": "code",
   "execution_count": 2,
   "metadata": {},
   "outputs": [
    {
     "data": {
      "text/plain": [
       "(int, float)"
      ]
     },
     "execution_count": 2,
     "metadata": {},
     "output_type": "execute_result"
    }
   ],
   "source": [
    "type(x), type(y)"
   ]
  },
  {
   "cell_type": "markdown",
   "metadata": {},
   "source": [
    "Like *R*, objects can be defined to have different classes, such as `str` (string), `bool` (boolean), and `complex` (complex numbers): "
   ]
  },
  {
   "cell_type": "code",
   "execution_count": 3,
   "metadata": {},
   "outputs": [
    {
     "data": {
      "text/plain": [
       "(str, bool, complex)"
      ]
     },
     "execution_count": 3,
     "metadata": {},
     "output_type": "execute_result"
    }
   ],
   "source": [
    "s = 'This is a string'\n",
    "b = True\n",
    "c = complex(3,2)\n",
    "type(s), type(b), type(c)"
   ]
  },
  {
   "cell_type": "markdown",
   "metadata": {},
   "source": [
    "In *python*, you can check if an object is of a specific class by using the function `isinstance`:"
   ]
  },
  {
   "cell_type": "code",
   "execution_count": 4,
   "metadata": {},
   "outputs": [
    {
     "data": {
      "text/plain": [
       "(True, False, False, True)"
      ]
     },
     "execution_count": 4,
     "metadata": {},
     "output_type": "execute_result"
    }
   ],
   "source": [
    "isinstance(s, str), isinstance(c, bool), isinstance(x, float), isinstance(c, complex)"
   ]
  },
  {
   "cell_type": "markdown",
   "metadata": {},
   "source": [
    "### 1.1. Arithmetic operations"
   ]
  },
  {
   "cell_type": "markdown",
   "metadata": {},
   "source": [
    "Like *R*, *python* can be used as a calculator that can perform simple arithmetic operations. Do the following commands return what would you expect?"
   ]
  },
  {
   "cell_type": "code",
   "execution_count": 5,
   "metadata": {},
   "outputs": [
    {
     "data": {
      "text/plain": [
       "(9, 2, 6)"
      ]
     },
     "execution_count": 5,
     "metadata": {},
     "output_type": "execute_result"
    }
   ],
   "source": [
    "4 + 5, 9 - 7, 4 ^ 2"
   ]
  },
  {
   "cell_type": "markdown",
   "metadata": {},
   "source": [
    "In *python*, the symbol `^` stands for *bitwise XOR*, whereas in *R* it is used for *powers*. \n",
    "\n",
    "In this case: $4_{10} = {100}_2$ and $2_{10} = {010}_{2}$. The bitwise XOR is: \n",
    "`1 XOR 0, 0 XOR 1, 0 XOR 0` $= 110_2 = 6_{10}$.\n",
    "\n",
    "The *power operator* in *python* is `**`: "
   ]
  },
  {
   "cell_type": "code",
   "execution_count": 6,
   "metadata": {},
   "outputs": [
    {
     "data": {
      "text/plain": [
       "16"
      ]
     },
     "execution_count": 6,
     "metadata": {},
     "output_type": "execute_result"
    }
   ],
   "source": [
    "4 ** 2"
   ]
  },
  {
   "cell_type": "markdown",
   "metadata": {},
   "source": [
    "Like *C* (but unlike *R*), *python* allows for the short hand notation for updating integers or floats via arithmetic operations:"
   ]
  },
  {
   "cell_type": "code",
   "execution_count": 7,
   "metadata": {},
   "outputs": [
    {
     "name": "stdout",
     "output_type": "stream",
     "text": [
      "Current value: 1\n",
      "Add 1: 2\n",
      "Multiply by 2: 4\n",
      "Third power: 64\n",
      "Divide by 8: 8.0\n"
     ]
    }
   ],
   "source": [
    "x = 1\n",
    "print('Current value:', x)\n",
    "x += 1 ## Short hand for x = x + 1\n",
    "print('Add 1:',  x)\n",
    "x *= 2 ## Short hand for x = x * 2\n",
    "print('Multiply by 2:', x)\n",
    "x **= 3 ## Short hand for x = x ** 3\n",
    "print('Third power:', x)\n",
    "x /= 8 ## Short hand for x = x / 8\n",
    "print('Divide by 8:', x)"
   ]
  },
  {
   "cell_type": "markdown",
   "metadata": {},
   "source": [
    "Note that:\n",
    "- the value of `x` is **updated** at each step;\n",
    "- at the last step, `x` was transformed into a `float` object. When this is undesirable, an integer division can be done using the syntax `//`."
   ]
  },
  {
   "cell_type": "code",
   "execution_count": 8,
   "metadata": {},
   "outputs": [
    {
     "data": {
      "text/plain": [
       "(8, int, float)"
      ]
     },
     "execution_count": 8,
     "metadata": {},
     "output_type": "execute_result"
    }
   ],
   "source": [
    "x = 64\n",
    "x // 8, type(x // 8), type(x / 8)"
   ]
  },
  {
   "cell_type": "markdown",
   "metadata": {},
   "source": [
    "In *python*, the modulo operator (division remainder) is simply `%` (unlike *R*, which uses `%%`):"
   ]
  },
  {
   "cell_type": "code",
   "execution_count": 9,
   "metadata": {
    "scrolled": true
   },
   "outputs": [
    {
     "data": {
      "text/plain": [
       "(1, 3, 10)"
      ]
     },
     "execution_count": 9,
     "metadata": {},
     "output_type": "execute_result"
    }
   ],
   "source": [
    "x = 10\n",
    "x % 3, x // 3, (x // 3) * 3 + (x % 3)"
   ]
  },
  {
   "cell_type": "markdown",
   "metadata": {},
   "source": [
    "### 1.2. Booleans\n",
    "\n",
    "For boolean operations, _python_ uses English words rather than symbols (e.g. `and` instead of `&`):"
   ]
  },
  {
   "cell_type": "code",
   "execution_count": 10,
   "metadata": {},
   "outputs": [
    {
     "name": "stdout",
     "output_type": "stream",
     "text": [
      "False\n",
      "True\n",
      "False\n",
      "True\n",
      "False\n"
     ]
    }
   ],
   "source": [
    "x = True\n",
    "y = False\n",
    "\n",
    "print(x and y) # logical and\n",
    "print(x or y) # logical or\n",
    "print(not x) # logical not\n",
    "print(x != y) # logical xor\n",
    "print(x == y) # equal"
   ]
  },
  {
   "cell_type": "markdown",
   "metadata": {},
   "source": [
    "### 1.3. Strings"
   ]
  },
  {
   "cell_type": "markdown",
   "metadata": {},
   "source": [
    "One of the advantages of *python* over *R* is certainly string manipulation. Working with strings in *python* is incredibly easy! "
   ]
  },
  {
   "cell_type": "code",
   "execution_count": 11,
   "metadata": {},
   "outputs": [],
   "source": [
    "greet = \"Hello MSc Statistics\""
   ]
  },
  {
   "cell_type": "markdown",
   "metadata": {},
   "source": [
    "The length (number of characters) of the string can be calculated with the function `len`:"
   ]
  },
  {
   "cell_type": "code",
   "execution_count": 12,
   "metadata": {},
   "outputs": [
    {
     "data": {
      "text/plain": [
       "20"
      ]
     },
     "execution_count": 12,
     "metadata": {},
     "output_type": "execute_result"
    }
   ],
   "source": [
    "len(greet)"
   ]
  },
  {
   "cell_type": "markdown",
   "metadata": {},
   "source": [
    "The characters in a string could be made all lowercase or uppercase using `.lower()` and `.upper()`:"
   ]
  },
  {
   "cell_type": "code",
   "execution_count": 13,
   "metadata": {},
   "outputs": [
    {
     "data": {
      "text/plain": [
       "('hello msc statistics', 'HELLO MSC STATISTICS')"
      ]
     },
     "execution_count": 13,
     "metadata": {},
     "output_type": "execute_result"
    }
   ],
   "source": [
    "greet.lower(), greet.upper()"
   ]
  },
  {
   "cell_type": "markdown",
   "metadata": {},
   "source": [
    "`.split()` could be used to split the elements of a string. The default option of `split` separates by whitespace:"
   ]
  },
  {
   "cell_type": "code",
   "execution_count": 14,
   "metadata": {},
   "outputs": [
    {
     "data": {
      "text/plain": [
       "['Hello', 'MSc', 'Statistics']"
      ]
     },
     "execution_count": 14,
     "metadata": {},
     "output_type": "execute_result"
    }
   ],
   "source": [
    "greet.split()"
   ]
  },
  {
   "cell_type": "markdown",
   "metadata": {},
   "source": [
    "The output is a _list_ of strings. Lists in _python_ will be discussed later in this tutorial. Alternatively, a string could be splitted by _any_ user-specified character (or group of characters). For example, splitting `greet` by `ll` gives:"
   ]
  },
  {
   "cell_type": "code",
   "execution_count": 15,
   "metadata": {},
   "outputs": [
    {
     "data": {
      "text/plain": [
       "['He', 'o MSc Statistics']"
      ]
     },
     "execution_count": 15,
     "metadata": {},
     "output_type": "execute_result"
    }
   ],
   "source": [
    "greet.split('ll')"
   ]
  },
  {
   "cell_type": "markdown",
   "metadata": {},
   "source": [
    "Sometimes it is also useful to strip the initial or final part from a string (for example, leading or ending whitespaces or newlines). This can be done with the function `.strip()`:"
   ]
  },
  {
   "cell_type": "code",
   "execution_count": 16,
   "metadata": {
    "scrolled": true
   },
   "outputs": [
    {
     "data": {
      "text/plain": [
       "('Hello MSc Statist', 'Hello MSc Statist', 'Hello MSc Statist')"
      ]
     },
     "execution_count": 16,
     "metadata": {},
     "output_type": "execute_result"
    }
   ],
   "source": [
    "greet.strip('ics'), greet.strip('csi'), greet.strip('sci')"
   ]
  },
  {
   "cell_type": "markdown",
   "metadata": {},
   "source": [
    "Note that the output is the _same_ for different permutations of the argument `ics`. `strip` also removes letters from the initial part of the string:"
   ]
  },
  {
   "cell_type": "code",
   "execution_count": 17,
   "metadata": {},
   "outputs": [
    {
     "data": {
      "text/plain": [
       "('o MSc Statistics', 'ello MSc Statisti')"
      ]
     },
     "execution_count": 17,
     "metadata": {},
     "output_type": "execute_result"
    }
   ],
   "source": [
    "greet.strip('Hell'), greet.strip('Hsc')"
   ]
  },
  {
   "cell_type": "markdown",
   "metadata": {},
   "source": [
    "The command `+` could be also used with strings, denoting *concatenation*:"
   ]
  },
  {
   "cell_type": "code",
   "execution_count": 18,
   "metadata": {},
   "outputs": [
    {
     "data": {
      "text/plain": [
       "'Hello MSc Statistics'"
      ]
     },
     "execution_count": 18,
     "metadata": {},
     "output_type": "execute_result"
    }
   ],
   "source": [
    "'Hello' + ' ' + 'MSc' + ' ' + 'Statistics'"
   ]
  },
  {
   "cell_type": "markdown",
   "metadata": {},
   "source": [
    "The same result can also be obtained with the function `join`, applied to the output of `greet.split()`:"
   ]
  },
  {
   "cell_type": "code",
   "execution_count": 19,
   "metadata": {},
   "outputs": [
    {
     "data": {
      "text/plain": [
       "'Hello MSc Statistics'"
      ]
     },
     "execution_count": 19,
     "metadata": {},
     "output_type": "execute_result"
    }
   ],
   "source": [
    "' '.join(greet.split())"
   ]
  },
  {
   "cell_type": "markdown",
   "metadata": {},
   "source": [
    "More generally, any separator could be passed to `join`:"
   ]
  },
  {
   "cell_type": "code",
   "execution_count": 20,
   "metadata": {},
   "outputs": [
    {
     "data": {
      "text/plain": [
       "('Hello, MSc, Statistics', 'Hello::MSc::Statistics')"
      ]
     },
     "execution_count": 20,
     "metadata": {},
     "output_type": "execute_result"
    }
   ],
   "source": [
    "', '.join(greet.split()), '::'.join(greet.split())"
   ]
  },
  {
   "cell_type": "markdown",
   "metadata": {},
   "source": [
    "In *python*, output can be displayed in `stdout` via the function `print`, which converts its arguments into strings:"
   ]
  },
  {
   "cell_type": "code",
   "execution_count": 21,
   "metadata": {},
   "outputs": [
    {
     "name": "stdout",
     "output_type": "stream",
     "text": [
      "Hello MSc Statistics\n",
      "Hello MSc Statistics\n",
      "Hello MSc Statistics\n",
      "Hello,\tMSc,\tStatistics.\n",
      "\n",
      "Hello MSc Statistics 20\n",
      "Hello MSc Statistics -- 42\n"
     ]
    }
   ],
   "source": [
    "print (greet)\n",
    "print ('Hello' + ' ' + 'MSc' + ' ' + 'Statistics')\n",
    "print ('Hello', 'MSc', 'Statistics') ## Default separator: whitespace; Default end: newline\n",
    "print ('Hello', 'MSc', 'Statistics', sep=',\\t', end='.\\n\\n') ## \\t is a tabulator, \\n is a new line\n",
    "print (greet + ' ' + str(len(greet)))\n",
    "print (greet, 42, sep=' -- ')"
   ]
  },
  {
   "cell_type": "markdown",
   "metadata": {},
   "source": [
    "## 2. Data structures\n",
    "\n",
    "### 2.1. Tuples\n",
    "\n",
    "One of the basic *python* data structures is the *tuple*. A tuple is a *heterogeneous* and *unmodifiable* array."
   ]
  },
  {
   "cell_type": "code",
   "execution_count": 22,
   "metadata": {},
   "outputs": [
    {
     "name": "stdout",
     "output_type": "stream",
     "text": [
      "3\n",
      "(4, 'Students', False)\n"
     ]
    }
   ],
   "source": [
    "a = (4,'Students',False)\n",
    "print (len(a)) # Prints length of the tuple\n",
    "print(a)  # Prints the entire tuple"
   ]
  },
  {
   "cell_type": "markdown",
   "metadata": {},
   "source": [
    "Importantly, indexing **starts from 0** in *python*."
   ]
  },
  {
   "cell_type": "code",
   "execution_count": 23,
   "metadata": {},
   "outputs": [
    {
     "name": "stdout",
     "output_type": "stream",
     "text": [
      "4\n",
      "Students\n",
      "False\n"
     ]
    }
   ],
   "source": [
    "print(a[0]) # Prints the first element\n",
    "print(a[1]) # Prints first element\n",
    "print(a[-1]) # Prints the last element (negative indexes are also supported!)"
   ]
  },
  {
   "cell_type": "markdown",
   "metadata": {},
   "source": [
    "Note that negative indices are also supported, for example, `a[-2]` prints the second-to-last element of the tuple:"
   ]
  },
  {
   "cell_type": "code",
   "execution_count": 24,
   "metadata": {},
   "outputs": [
    {
     "name": "stdout",
     "output_type": "stream",
     "text": [
      "Students\n"
     ]
    }
   ],
   "source": [
    "print(a[-2])"
   ]
  },
  {
   "cell_type": "markdown",
   "metadata": {},
   "source": [
    "Importantly, tuples are **unmutable**. After a tuple is declared, its values cannot be changed:"
   ]
  },
  {
   "cell_type": "code",
   "execution_count": 25,
   "metadata": {},
   "outputs": [
    {
     "ename": "TypeError",
     "evalue": "'tuple' object does not support item assignment",
     "output_type": "error",
     "traceback": [
      "\u001b[0;31m---------------------------------------------------------------------------\u001b[0m",
      "\u001b[0;31mTypeError\u001b[0m                                 Traceback (most recent call last)",
      "\u001b[0;32m<ipython-input-25-c55e479e7831>\u001b[0m in \u001b[0;36m<module>\u001b[0;34m\u001b[0m\n\u001b[0;32m----> 1\u001b[0;31m \u001b[0ma\u001b[0m\u001b[0;34m[\u001b[0m\u001b[0;36m0\u001b[0m\u001b[0;34m]\u001b[0m \u001b[0;34m=\u001b[0m \u001b[0;36m3\u001b[0m\u001b[0;34m\u001b[0m\u001b[0;34m\u001b[0m\u001b[0m\n\u001b[0m",
      "\u001b[0;31mTypeError\u001b[0m: 'tuple' object does not support item assignment"
     ]
    }
   ],
   "source": [
    "a[0] = 3"
   ]
  },
  {
   "cell_type": "markdown",
   "metadata": {},
   "source": [
    "### 2.2. Lists\n",
    "\n",
    "In *python*, a _list_ can be thought of as a *heterogeneous* and *modifiable* array. "
   ]
  },
  {
   "cell_type": "code",
   "execution_count": 27,
   "metadata": {},
   "outputs": [
    {
     "name": "stdout",
     "output_type": "stream",
     "text": [
      "3\n",
      "['Hi', True, 42]\n"
     ]
    }
   ],
   "source": [
    "a = ['Hi', True, 42]\n",
    "print (len(a)) # Prints length of the list\n",
    "print(a)  # Prints the entire list"
   ]
  },
  {
   "cell_type": "markdown",
   "metadata": {},
   "source": [
    "Importantly, a list in _python_ is **different** from a list in *R*. Lists in *R* are more similar to _python_ *dictionaries* (more on this later!). "
   ]
  },
  {
   "cell_type": "markdown",
   "metadata": {},
   "source": [
    "Indexing is similar to tuples:"
   ]
  },
  {
   "cell_type": "code",
   "execution_count": 28,
   "metadata": {},
   "outputs": [
    {
     "name": "stdout",
     "output_type": "stream",
     "text": [
      "Hi\n",
      "True\n",
      "42\n"
     ]
    }
   ],
   "source": [
    "print(a[0]) # Prints the first element\n",
    "print(a[1]) # Prints first element\n",
    "print(a[-1]) # Prints the last element (negative indexes are also supported!)"
   ]
  },
  {
   "cell_type": "markdown",
   "metadata": {},
   "source": [
    "For lists and tuples, it is easy to check if the list includes a given value: *python* simply uses the plain language statement `in`."
   ]
  },
  {
   "cell_type": "code",
   "execution_count": 29,
   "metadata": {},
   "outputs": [
    {
     "data": {
      "text/plain": [
       "(True, False, True, False, True)"
      ]
     },
     "execution_count": 29,
     "metadata": {},
     "output_type": "execute_result"
    }
   ],
   "source": [
    "42 in a, '42' in a, 'Hi' in a, 'True' in a, True in a"
   ]
  },
  {
   "cell_type": "markdown",
   "metadata": {},
   "source": [
    "Unlike tuples, it is possible (and very easy!) to manipulate the elements of the list, as well as add or remove elements."
   ]
  },
  {
   "cell_type": "code",
   "execution_count": 30,
   "metadata": {},
   "outputs": [
    {
     "name": "stdout",
     "output_type": "stream",
     "text": [
      "['Hello', True, 42]\n"
     ]
    }
   ],
   "source": [
    "a[0] = \"Hello\" ## Change the first element to string 'Hello'\n",
    "print(a)"
   ]
  },
  {
   "cell_type": "code",
   "execution_count": 31,
   "metadata": {},
   "outputs": [
    {
     "name": "stdout",
     "output_type": "stream",
     "text": [
      "['Hello', True, 42, '!!!']\n"
     ]
    }
   ],
   "source": [
    "a.append(\"!!!\") ### Add element in the end\n",
    "print(a)"
   ]
  },
  {
   "cell_type": "code",
   "execution_count": 32,
   "metadata": {},
   "outputs": [
    {
     "name": "stdout",
     "output_type": "stream",
     "text": [
      "['First position', 'Hello', True, 42, '!!!']\n"
     ]
    }
   ],
   "source": [
    "a.insert(0, 'First position')\n",
    "print(a)"
   ]
  },
  {
   "cell_type": "code",
   "execution_count": 33,
   "metadata": {},
   "outputs": [
    {
     "name": "stdout",
     "output_type": "stream",
     "text": [
      "['First position', 'Hello', 'New element', True, 42, '!!!']\n"
     ]
    }
   ],
   "source": [
    "a.insert(2, 'New element')\n",
    "print(a)"
   ]
  },
  {
   "cell_type": "markdown",
   "metadata": {},
   "source": [
    "Can you guess what the functions `append` and `insert` do?"
   ]
  },
  {
   "cell_type": "markdown",
   "metadata": {},
   "source": [
    "For deleting elements from a list, there are two options: removing by value, and removing by index. For removing by value, the function `.remove()` can be used:"
   ]
  },
  {
   "cell_type": "code",
   "execution_count": 34,
   "metadata": {},
   "outputs": [
    {
     "name": "stdout",
     "output_type": "stream",
     "text": [
      "['First position', 'Hello', True, 42, '!!!']\n"
     ]
    }
   ],
   "source": [
    "a.remove('New element')\n",
    "print(a)"
   ]
  },
  {
   "cell_type": "markdown",
   "metadata": {},
   "source": [
    "If the value in argument is not present in the list, an error is returned:"
   ]
  },
  {
   "cell_type": "code",
   "execution_count": 35,
   "metadata": {},
   "outputs": [
    {
     "ename": "ValueError",
     "evalue": "list.remove(x): x not in list",
     "output_type": "error",
     "traceback": [
      "\u001b[0;31m---------------------------------------------------------------------------\u001b[0m",
      "\u001b[0;31mValueError\u001b[0m                                Traceback (most recent call last)",
      "\u001b[0;32m<ipython-input-35-2d2df242c793>\u001b[0m in \u001b[0;36m<module>\u001b[0;34m\u001b[0m\n\u001b[0;32m----> 1\u001b[0;31m \u001b[0ma\u001b[0m\u001b[0;34m.\u001b[0m\u001b[0mremove\u001b[0m\u001b[0;34m(\u001b[0m\u001b[0;34m'Non-existent value'\u001b[0m\u001b[0;34m)\u001b[0m\u001b[0;34m\u001b[0m\u001b[0;34m\u001b[0m\u001b[0m\n\u001b[0m",
      "\u001b[0;31mValueError\u001b[0m: list.remove(x): x not in list"
     ]
    }
   ],
   "source": [
    "a.remove('Non-existent value')"
   ]
  },
  {
   "cell_type": "markdown",
   "metadata": {},
   "source": [
    "If the list contains multiple instances of the same value (usually known as duplicates), `.remove()` only removes the first matching element:"
   ]
  },
  {
   "cell_type": "code",
   "execution_count": 36,
   "metadata": {},
   "outputs": [
    {
     "name": "stdout",
     "output_type": "stream",
     "text": [
      "['Dog', 'Dog', 'Cat', 'Cat']\n"
     ]
    }
   ],
   "source": [
    "animals = ['Dog','Cat','Dog','Cat','Cat']\n",
    "animals.remove('Cat')\n",
    "print(animals)"
   ]
  },
  {
   "cell_type": "markdown",
   "metadata": {},
   "source": [
    "Note that `.remove()` does *not* return a copy of the list, but it *updates* the list itself."
   ]
  },
  {
   "cell_type": "markdown",
   "metadata": {},
   "source": [
    "In many situations, it is also useful to remove elements by index. In *python*, there are two options to do this: `.pop()` and `del`. `.pop()` removes and returns the value corresponding to the element being removed, whereas `del` only removes it. Note that `del` is more general purpose, and can be used to remove objects from the workspace."
   ]
  },
  {
   "cell_type": "code",
   "execution_count": 37,
   "metadata": {},
   "outputs": [
    {
     "name": "stdout",
     "output_type": "stream",
     "text": [
      "['First position', 'Hello', True, 42, '!!!']\n",
      "First position\n",
      "['Hello', True, 42, '!!!']\n"
     ]
    }
   ],
   "source": [
    "print(a)\n",
    "print(a.pop(0))\n",
    "print(a)"
   ]
  },
  {
   "cell_type": "code",
   "execution_count": 38,
   "metadata": {},
   "outputs": [
    {
     "name": "stdout",
     "output_type": "stream",
     "text": [
      "['Hello', True, 42]\n"
     ]
    }
   ],
   "source": [
    "del a[3]\n",
    "print(a)"
   ]
  },
  {
   "cell_type": "code",
   "execution_count": 39,
   "metadata": {},
   "outputs": [
    {
     "data": {
      "text/plain": [
       "(False, True)"
      ]
     },
     "execution_count": 39,
     "metadata": {},
     "output_type": "execute_result"
    }
   ],
   "source": [
    "del animals\n",
    "'animals' in locals(), 'a' in locals() ## locals() works similarly to ls() in R"
   ]
  },
  {
   "cell_type": "markdown",
   "metadata": {},
   "source": [
    "#### 2.2.1. List slicing"
   ]
  },
  {
   "cell_type": "markdown",
   "metadata": {},
   "source": [
    "In `R`, a vector of integers from 0 to 4 can be simply written as `0:4`. In *python*, the in-built function `range` can be used:"
   ]
  },
  {
   "cell_type": "code",
   "execution_count": 40,
   "metadata": {},
   "outputs": [
    {
     "name": "stdout",
     "output_type": "stream",
     "text": [
      "range(0, 5)\n"
     ]
    }
   ],
   "source": [
    "nums = range(5) # range is a built-in function that creates a list of integers from 0 to 4\n",
    "print(nums)"
   ]
  },
  {
   "cell_type": "markdown",
   "metadata": {},
   "source": [
    "More specifically, `range` is an object, so it must be transformed to a `list` to display its elements:"
   ]
  },
  {
   "cell_type": "code",
   "execution_count": 41,
   "metadata": {},
   "outputs": [
    {
     "name": "stdout",
     "output_type": "stream",
     "text": [
      "<class 'range'>\n",
      "[0, 1, 2, 3, 4]\n"
     ]
    }
   ],
   "source": [
    "print(type(nums))\n",
    "print(list(nums))\n",
    "nums = list(nums)"
   ]
  },
  {
   "cell_type": "markdown",
   "metadata": {},
   "source": [
    "In *python*, `:` is used for slicing:"
   ]
  },
  {
   "cell_type": "code",
   "execution_count": 42,
   "metadata": {},
   "outputs": [
    {
     "name": "stdout",
     "output_type": "stream",
     "text": [
      "[2, 3]\n",
      "[2, 3, 4]\n",
      "[0, 1]\n",
      "[0, 1, 2, 3, 4]\n"
     ]
    }
   ],
   "source": [
    "print(nums[2:4])    # Get a slice from index 2 to 4 (exclusive); prints \"[2, 3]\"\n",
    "print(nums[2:])     # Get a slice from index 2 to the end; prints \"[2, 3, 4]\"\n",
    "print(nums[:2])     # Get a slice from the start to index 2 (exclusive); same as prints \"[0, 1]\"\n",
    "print(nums[:])      # Get a slice of the whole list; prints [\"0, 1, 2, 3, 4]\""
   ]
  },
  {
   "cell_type": "markdown",
   "metadata": {},
   "source": [
    "Slice indices can also be negative. For example, to print everything except the last element:"
   ]
  },
  {
   "cell_type": "code",
   "execution_count": 43,
   "metadata": {},
   "outputs": [
    {
     "name": "stdout",
     "output_type": "stream",
     "text": [
      "[0, 1, 2, 3]\n"
     ]
    }
   ],
   "source": [
    "print(nums[:-1])    # Slice indices can be negative; prints [\"0, 1, 2, 3]\""
   ]
  },
  {
   "cell_type": "markdown",
   "metadata": {},
   "source": [
    "More generally, slicing in _python_ has the structure `[<start_index>:<stop_index>:<step>]`, with defaults `<start_index>=0`, `<stop_index=len(list)>`, `<step>=1`:"
   ]
  },
  {
   "cell_type": "code",
   "execution_count": 44,
   "metadata": {},
   "outputs": [
    {
     "data": {
      "text/plain": [
       "[0, 1, 2, 3, 4]"
      ]
     },
     "execution_count": 44,
     "metadata": {},
     "output_type": "execute_result"
    }
   ],
   "source": [
    "nums[0:len(nums):1]"
   ]
  },
  {
   "cell_type": "code",
   "execution_count": 45,
   "metadata": {},
   "outputs": [
    {
     "data": {
      "text/plain": [
       "([0, 2, 4], [1, 3], [2, 5])"
      ]
     },
     "execution_count": 45,
     "metadata": {},
     "output_type": "execute_result"
    }
   ],
   "source": [
    "nums[::2], nums[1::2], list(range(10))[2:7:3]"
   ]
  },
  {
   "cell_type": "markdown",
   "metadata": {},
   "source": [
    "For example, how would you get the list of even numbers between 40 and 60 (extremes included) using slicing, starting from a `range(100)` object?  "
   ]
  },
  {
   "cell_type": "code",
   "execution_count": 46,
   "metadata": {},
   "outputs": [
    {
     "data": {
      "text/plain": [
       "[40, 42, 44, 46, 48, 50, 52, 54, 56, 58, 60]"
      ]
     },
     "execution_count": 46,
     "metadata": {},
     "output_type": "execute_result"
    }
   ],
   "source": [
    "list(range(100))[40:61:2]"
   ]
  },
  {
   "cell_type": "markdown",
   "metadata": {},
   "source": [
    "How do you *reverse* a list, using only slicing? Remember that slicing admits negative indices:"
   ]
  },
  {
   "cell_type": "code",
   "execution_count": 47,
   "metadata": {},
   "outputs": [
    {
     "data": {
      "text/plain": [
       "[4, 3, 2, 1, 0]"
      ]
     },
     "execution_count": 47,
     "metadata": {},
     "output_type": "execute_result"
    }
   ],
   "source": [
    "nums[::-1]"
   ]
  },
  {
   "cell_type": "markdown",
   "metadata": {},
   "source": [
    "### 2.3. Dictionaries\n",
    "\n",
    "Dictionaries are among the most commonly used data structures in *python*. Dictionaries could be roughly compared to _R_ lists (but, in general, *python* dictionaries are much more flexible than _R_ lists). Dictionaries are collections of `(key,value)` pairs. The values can be of _any_ data type and *can repeat*, whereas keys must be of immutable type (string, number or tuple) and must be *unique*."
   ]
  },
  {
   "cell_type": "code",
   "execution_count": 48,
   "metadata": {},
   "outputs": [
    {
     "name": "stdout",
     "output_type": "stream",
     "text": [
      "{'Imperial': 'University', 4: 'Four', (0, 2): 1}\n"
     ]
    }
   ],
   "source": [
    "my_dict = {} ## Empty dictionary\n",
    "my_dict['Imperial'] = 'University'\n",
    "my_dict[4] = 'Four'\n",
    "my_dict[(0,2)] = 1\n",
    "print(my_dict)"
   ]
  },
  {
   "cell_type": "markdown",
   "metadata": {},
   "source": [
    "In the above example, the *keys* are `Imperial`, `4` and `(0,2)`, whereas the corresponding *values* are `University`, `Four` and `1`."
   ]
  },
  {
   "cell_type": "markdown",
   "metadata": {},
   "source": [
    "The same dictionary could be equivalently defined in many different ways:"
   ]
  },
  {
   "cell_type": "code",
   "execution_count": 49,
   "metadata": {},
   "outputs": [
    {
     "name": "stdout",
     "output_type": "stream",
     "text": [
      "{'Imperial': 'University', 4: 'Four', (0, 2): 1}\n",
      "{'Imperial': 'University', 4: 'Four', (0, 2): 1}\n",
      "{'Imperial': 'University', 4: 'Four', (0, 2): 1}\n"
     ]
    }
   ],
   "source": [
    "my_dict1 = {'Imperial': 'University', 4: 'Four', (0, 2): 1}\n",
    "my_dict2 = dict({'Imperial': 'University', 4: 'Four', (0, 2): 1})\n",
    "my_dict3 = dict([('Imperial', 'University'), (4, 'Four'), ((0, 2), 1)])\n",
    "print(my_dict1, my_dict2, my_dict3, sep='\\n')"
   ]
  },
  {
   "cell_type": "markdown",
   "metadata": {},
   "source": [
    "Elements of dictionaries could be accessed in two different ways: using square brackets `[]`, and using `.get()`, with the `key` as argument. The output is identical if the `key` used as argument exists, but differs if the `key` is unused:"
   ]
  },
  {
   "cell_type": "code",
   "execution_count": 50,
   "metadata": {},
   "outputs": [
    {
     "data": {
      "text/plain": [
       "('University', 'Four', 'University')"
      ]
     },
     "execution_count": 50,
     "metadata": {},
     "output_type": "execute_result"
    }
   ],
   "source": [
    "my_dict['Imperial'], my_dict.get(4), my_dict.get('Imperial')"
   ]
  },
  {
   "cell_type": "code",
   "execution_count": 51,
   "metadata": {},
   "outputs": [
    {
     "name": "stdout",
     "output_type": "stream",
     "text": [
      "None <class 'NoneType'>\n"
     ]
    }
   ],
   "source": [
    "print(my_dict.get('MSc Statistics'), type(my_dict.get('MSc Statistics')))"
   ]
  },
  {
   "cell_type": "code",
   "execution_count": 52,
   "metadata": {},
   "outputs": [
    {
     "ename": "KeyError",
     "evalue": "'Msc Statistics'",
     "output_type": "error",
     "traceback": [
      "\u001b[0;31m---------------------------------------------------------------------------\u001b[0m",
      "\u001b[0;31mKeyError\u001b[0m                                  Traceback (most recent call last)",
      "\u001b[0;32m<ipython-input-52-135fa95f4106>\u001b[0m in \u001b[0;36m<module>\u001b[0;34m\u001b[0m\n\u001b[0;32m----> 1\u001b[0;31m \u001b[0mmy_dict\u001b[0m\u001b[0;34m[\u001b[0m\u001b[0;34m'Msc Statistics'\u001b[0m\u001b[0;34m]\u001b[0m\u001b[0;34m\u001b[0m\u001b[0;34m\u001b[0m\u001b[0m\n\u001b[0m",
      "\u001b[0;31mKeyError\u001b[0m: 'Msc Statistics'"
     ]
    }
   ],
   "source": [
    "my_dict['Msc Statistics']"
   ]
  },
  {
   "cell_type": "markdown",
   "metadata": {},
   "source": [
    "Dictionaries are mutable objects, and new values can be added or changed using the square brackets `[]` with the key as argument, and assigned a value. If the key is already used, then the corresponding value is updated; otherwise, the new `(key, value)` pair is added to the dictionary:"
   ]
  },
  {
   "cell_type": "code",
   "execution_count": 53,
   "metadata": {},
   "outputs": [
    {
     "name": "stdout",
     "output_type": "stream",
     "text": [
      "{'Imperial': 'College', 4: 'Four', (0, 2): 1, 'University': 'College', 10: ['Ten', None, True]}\n"
     ]
    }
   ],
   "source": [
    "my_dict['Imperial'] = 'College'\n",
    "my_dict['University'] = 'College'\n",
    "my_dict[10] = ['Ten', None, True]\n",
    "print(my_dict)"
   ]
  },
  {
   "cell_type": "markdown",
   "metadata": {},
   "source": [
    "Dictionaries are extremely flexible objects, and it is also possible to define dictionaries-of-dictionaries:"
   ]
  },
  {
   "cell_type": "code",
   "execution_count": 54,
   "metadata": {},
   "outputs": [
    {
     "name": "stdout",
     "output_type": "stream",
     "text": [
      "{'Dog': ['Chien', 'Perro', 'Cane'], 'Cat': ['Chat', 'Gato', 'Gatto']} <class 'dict'>\n"
     ]
    }
   ],
   "source": [
    "my_dict['Sub-dictionary'] = {}\n",
    "my_dict['Sub-dictionary']['Dog'] = ['Chien', 'Perro', 'Cane']\n",
    "my_dict['Sub-dictionary']['Cat'] = ['Chat', 'Gato', 'Gatto']\n",
    "print(my_dict['Sub-dictionary'], type(my_dict['Sub-dictionary']))"
   ]
  },
  {
   "cell_type": "markdown",
   "metadata": {},
   "source": [
    "Elements can be removed in a similar way to lists, using `.pop(key)` (which also returns the corresponding value) and `del`: "
   ]
  },
  {
   "cell_type": "code",
   "execution_count": 55,
   "metadata": {},
   "outputs": [
    {
     "data": {
      "text/plain": [
       "['Ten', None, True]"
      ]
     },
     "execution_count": 55,
     "metadata": {},
     "output_type": "execute_result"
    }
   ],
   "source": [
    "del my_dict['University']\n",
    "my_dict.pop(10)"
   ]
  },
  {
   "cell_type": "code",
   "execution_count": 56,
   "metadata": {},
   "outputs": [
    {
     "name": "stdout",
     "output_type": "stream",
     "text": [
      "{'Imperial': 'College', 4: 'Four', (0, 2): 1, 'Sub-dictionary': {'Dog': ['Chien', 'Perro', 'Cane'], 'Cat': ['Chat', 'Gato', 'Gatto']}}\n"
     ]
    }
   ],
   "source": [
    "print(my_dict)"
   ]
  },
  {
   "cell_type": "markdown",
   "metadata": {},
   "source": [
    "## 3. Conditional statements, loops and list comprehension"
   ]
  },
  {
   "cell_type": "markdown",
   "metadata": {},
   "source": [
    "### 3.1. `if` statements"
   ]
  },
  {
   "cell_type": "markdown",
   "metadata": {},
   "source": [
    "`if` statements in *python* can be written as:"
   ]
  },
  {
   "cell_type": "code",
   "execution_count": 57,
   "metadata": {},
   "outputs": [
    {
     "name": "stdout",
     "output_type": "stream",
     "text": [
      "a is greater than 0.\n"
     ]
    }
   ],
   "source": [
    "a = 1\n",
    "if a > 0:\n",
    "    print('a is greater than 0.')\n",
    "else:\n",
    "    print('a is not greater than 0.')"
   ]
  },
  {
   "cell_type": "markdown",
   "metadata": {},
   "source": [
    "_python_ code **must be indented** when a new line is used after `:`. This might seem a drawback, but it helps making code much more readable and interpretable. If indentation is not used (either a tab `\\t` or 4 whitespaces `    `), _python_ will not run the code block: "
   ]
  },
  {
   "cell_type": "code",
   "execution_count": 58,
   "metadata": {},
   "outputs": [
    {
     "ename": "IndentationError",
     "evalue": "expected an indented block (<ipython-input-58-8261f5659e82>, line 2)",
     "output_type": "error",
     "traceback": [
      "\u001b[0;36m  File \u001b[0;32m\"<ipython-input-58-8261f5659e82>\"\u001b[0;36m, line \u001b[0;32m2\u001b[0m\n\u001b[0;31m    print('a is greater than 0.')\u001b[0m\n\u001b[0m    ^\u001b[0m\n\u001b[0;31mIndentationError\u001b[0m\u001b[0;31m:\u001b[0m expected an indented block\n"
     ]
    }
   ],
   "source": [
    "if a > 0:\n",
    "print('a is greater than 0.')\n",
    "else:\n",
    "print('a is not greater than 0.')"
   ]
  },
  {
   "cell_type": "markdown",
   "metadata": {},
   "source": [
    "`if` statements can also be written in-line:"
   ]
  },
  {
   "cell_type": "code",
   "execution_count": 59,
   "metadata": {},
   "outputs": [
    {
     "name": "stdout",
     "output_type": "stream",
     "text": [
      "-1\n"
     ]
    }
   ],
   "source": [
    "x = 1 if a < 0 else -1\n",
    "print(x)"
   ]
  },
  {
   "cell_type": "markdown",
   "metadata": {},
   "source": [
    "When using in-line `if` statements, the order of the operations must be checked carefully. When in doubt, it is always a good idea to use parentheses where appropriate:"
   ]
  },
  {
   "cell_type": "code",
   "execution_count": 60,
   "metadata": {},
   "outputs": [
    {
     "data": {
      "text/plain": [
       "(-1, -2)"
      ]
     },
     "execution_count": 60,
     "metadata": {},
     "output_type": "execute_result"
    }
   ],
   "source": [
    "x + 1 if a < 0 else -1, x + (1 if a < 0 else -1)"
   ]
  },
  {
   "cell_type": "markdown",
   "metadata": {},
   "source": [
    "In _python_ it is also possible to easily check for multiple conditions, using the statement `elif` within `if` and `else` statements. `elif` is a short form for `else if`:"
   ]
  },
  {
   "cell_type": "code",
   "execution_count": 61,
   "metadata": {},
   "outputs": [
    {
     "name": "stdout",
     "output_type": "stream",
     "text": [
      "Valencia is in Spain.\n"
     ]
    }
   ],
   "source": [
    "x = 'Valencia'\n",
    "if x == 'Rome':\n",
    "    print(x, 'is in Italy.')\n",
    "elif x == 'Paris':\n",
    "    print(x, 'is in France.')\n",
    "else:\n",
    "    print(x, 'is in Spain.')"
   ]
  },
  {
   "cell_type": "markdown",
   "metadata": {},
   "source": [
    "### 3.2. `for` loops"
   ]
  },
  {
   "cell_type": "markdown",
   "metadata": {},
   "source": [
    "`for` loops in *python* have a similar syntax to *R*:"
   ]
  },
  {
   "cell_type": "code",
   "execution_count": 62,
   "metadata": {},
   "outputs": [
    {
     "name": "stdout",
     "output_type": "stream",
     "text": [
      "Inter Milan\n",
      "Paris Saint Germain\n",
      "Liverpool\n",
      "Ajax\n"
     ]
    }
   ],
   "source": [
    "football = ['Inter Milan', 'Paris Saint Germain', 'Liverpool', 'Ajax']\n",
    "for team in football:\n",
    "    print(team)"
   ]
  },
  {
   "cell_type": "markdown",
   "metadata": {},
   "source": [
    "Note that the loop is only valid if the line after the `for` statement is correctly indented. Alternatively, one can write:"
   ]
  },
  {
   "cell_type": "code",
   "execution_count": 63,
   "metadata": {},
   "outputs": [
    {
     "name": "stdout",
     "output_type": "stream",
     "text": [
      "Inter Milan\n",
      "Paris Saint Germain\n",
      "Liverpool\n",
      "Ajax\n"
     ]
    }
   ],
   "source": [
    "for i in range(len(football)):\n",
    "    print(football[i])"
   ]
  },
  {
   "cell_type": "markdown",
   "metadata": {},
   "source": [
    "### 3.3. `while` loops\n",
    "\n",
    "`while` loops have again a similar syntax to *R*:"
   ]
  },
  {
   "cell_type": "code",
   "execution_count": 64,
   "metadata": {},
   "outputs": [
    {
     "name": "stdout",
     "output_type": "stream",
     "text": [
      "256\n"
     ]
    }
   ],
   "source": [
    "x = 2\n",
    "while x < 100:\n",
    "    x **= 2\n",
    "print(x)"
   ]
  },
  {
   "cell_type": "markdown",
   "metadata": {},
   "source": [
    "The general notation of a while statement is `while condition:`, where `condition` is a boolean value:"
   ]
  },
  {
   "cell_type": "code",
   "execution_count": 65,
   "metadata": {},
   "outputs": [
    {
     "name": "stdout",
     "output_type": "stream",
     "text": [
      "4.43943165845315\n"
     ]
    }
   ],
   "source": [
    "c = True\n",
    "while c:\n",
    "    x /= 1.5\n",
    "    c = x > 5\n",
    "print(x)"
   ]
  },
  {
   "cell_type": "markdown",
   "metadata": {},
   "source": [
    "### 3.4. List comprehension"
   ]
  },
  {
   "cell_type": "markdown",
   "metadata": {},
   "source": [
    "List comprehension offers a good alternative to `for` loops when a new list based on the values of an existing list must be obtained:"
   ]
  },
  {
   "cell_type": "code",
   "execution_count": 66,
   "metadata": {},
   "outputs": [
    {
     "name": "stdout",
     "output_type": "stream",
     "text": [
      "True\n"
     ]
    }
   ],
   "source": [
    "b = []\n",
    "for i in range(4):\n",
    "    b.append(i**2)\n",
    "# Alternatively\n",
    "c = [i**2 for i in range(4)] ## List comprehension\n",
    "print (b == c)"
   ]
  },
  {
   "cell_type": "markdown",
   "metadata": {},
   "source": [
    "Note that lists also admit mathematical operations. For example: "
   ]
  },
  {
   "cell_type": "code",
   "execution_count": 67,
   "metadata": {},
   "outputs": [
    {
     "name": "stdout",
     "output_type": "stream",
     "text": [
      "[1, 2, 3, 4, 5, 6]\n",
      "[1, 2, 3, 1, 2, 3, 1, 2, 3]\n"
     ]
    }
   ],
   "source": [
    "print([1,2,3] + [4,5,6]) ### Combine two vectors into one\n",
    "print([1,2,3] * 3) ### Repeat list three times"
   ]
  },
  {
   "cell_type": "markdown",
   "metadata": {},
   "source": [
    "List comprehension can also be combined with `if` statements. For example:"
   ]
  },
  {
   "cell_type": "code",
   "execution_count": 68,
   "metadata": {},
   "outputs": [
    {
     "name": "stdout",
     "output_type": "stream",
     "text": [
      "[0.0, 1.0, 1.4142135623730951, 1.7320508075688772, 2.0, 2.23606797749979, 36, 49, 64, 81]\n"
     ]
    }
   ],
   "source": [
    "print([i ** 2 if i > 5 else i ** (1/2) for i in range(10)])"
   ]
  },
  {
   "cell_type": "markdown",
   "metadata": {},
   "source": [
    "## 4. Import libraries"
   ]
  },
  {
   "cell_type": "markdown",
   "metadata": {},
   "source": [
    "In *python*, libraries should be imported using the command `import`. For example, to import the `math` library:"
   ]
  },
  {
   "cell_type": "code",
   "execution_count": 69,
   "metadata": {},
   "outputs": [],
   "source": [
    "import math"
   ]
  },
  {
   "cell_type": "markdown",
   "metadata": {},
   "source": [
    "The library `math` contains some useful functions, for example `log` (natural logarithm):"
   ]
  },
  {
   "cell_type": "code",
   "execution_count": 70,
   "metadata": {},
   "outputs": [
    {
     "data": {
      "text/plain": [
       "(0.0, 0.6931471805599453)"
      ]
     },
     "execution_count": 70,
     "metadata": {},
     "output_type": "execute_result"
    }
   ],
   "source": [
    "math.log(1), math.log(2)"
   ]
  },
  {
   "cell_type": "markdown",
   "metadata": {},
   "source": [
    "In some cases, it might be convenient to only import a small number of functions from a library: "
   ]
  },
  {
   "cell_type": "code",
   "execution_count": 71,
   "metadata": {},
   "outputs": [
    {
     "data": {
      "text/plain": [
       "(2.302585092994046, 7.38905609893065, 2.0)"
      ]
     },
     "execution_count": 71,
     "metadata": {},
     "output_type": "execute_result"
    }
   ],
   "source": [
    "from math import log, exp\n",
    "log(10), exp(2), log(exp(2))"
   ]
  },
  {
   "cell_type": "markdown",
   "metadata": {},
   "source": [
    "An asterisk `*` can be used for importing *all* functions within a library:"
   ]
  },
  {
   "cell_type": "code",
   "execution_count": 72,
   "metadata": {},
   "outputs": [
    {
     "data": {
      "text/plain": [
       "(1.7724538509055159, 1.7724538509055159)"
      ]
     },
     "execution_count": 72,
     "metadata": {},
     "output_type": "execute_result"
    }
   ],
   "source": [
    "from math import *\n",
    "gamma(1/2), sqrt(pi)"
   ]
  },
  {
   "cell_type": "markdown",
   "metadata": {},
   "source": [
    "In the code snippet above, the functions `gamma` and `sqrt`, and the constant `pi`, have been implicitly imported. Note that importing _all_ functions could be dangerous. For example, for `math`, this could be a problem if other variables are named `gamma` or `pi`."
   ]
  },
  {
   "cell_type": "markdown",
   "metadata": {},
   "source": [
    "Libraries and functions could also be renamed:"
   ]
  },
  {
   "cell_type": "code",
   "execution_count": 73,
   "metadata": {},
   "outputs": [
    {
     "data": {
      "text/plain": [
       "(2.302585092994046, 2.302585092994046)"
      ]
     },
     "execution_count": 73,
     "metadata": {},
     "output_type": "execute_result"
    }
   ],
   "source": [
    "import math as mathematics\n",
    "from math import log as logarithm\n",
    "mathematics.log(10), logarithm(10)"
   ]
  },
  {
   "cell_type": "markdown",
   "metadata": {},
   "source": [
    "Some important _python_ libraries have naming conventions:"
   ]
  },
  {
   "cell_type": "code",
   "execution_count": 74,
   "metadata": {},
   "outputs": [],
   "source": [
    "import numpy as np\n",
    "import scipy as sp\n",
    "import pandas as pd\n",
    "import tensorflow as tf"
   ]
  },
  {
   "cell_type": "markdown",
   "metadata": {},
   "source": [
    "## 5. Functions"
   ]
  },
  {
   "cell_type": "markdown",
   "metadata": {},
   "source": [
    "In *python*, a function can be written using the statement `def function_name(arguments):`, ended with `return`. For example, a simple function to add 1 to a given number $x$ is:"
   ]
  },
  {
   "cell_type": "code",
   "execution_count": 75,
   "metadata": {},
   "outputs": [
    {
     "data": {
      "text/plain": [
       "(1, 2, 3)"
      ]
     },
     "execution_count": 75,
     "metadata": {},
     "output_type": "execute_result"
    }
   ],
   "source": [
    "def add_one(x):\n",
    "    return (x+1)\n",
    "x = 1\n",
    "x, add_one(x), add_one(add_one(x))"
   ]
  },
  {
   "cell_type": "markdown",
   "metadata": {},
   "source": [
    "Again, it is important to check that the function is correctly indented after the `def` line. Most *python* IDEs should do this for you, flagging if there are issues with indentation. "
   ]
  },
  {
   "cell_type": "markdown",
   "metadata": {},
   "source": [
    "The following block gives an example of a more complex function, which implements *quicksort*, a sorting algorithm. Can you describe which operations are carried out in each line of the function? "
   ]
  },
  {
   "cell_type": "code",
   "execution_count": 76,
   "metadata": {},
   "outputs": [
    {
     "name": "stdout",
     "output_type": "stream",
     "text": [
      "[1, 1, 2, 3, 4, 6, 7, 8, 10]\n"
     ]
    }
   ],
   "source": [
    "from random import randint\n",
    "\n",
    "def quicksort(arr):\n",
    "    if len(arr) <= 1:\n",
    "        return arr \n",
    "    pivot = arr[randint(a=0,b=len(arr)-1)] ### Returns an integer from the set {a, a+1, ..., b-1, b}.\n",
    "    left = [x for x in arr if x < pivot]\n",
    "    middle = [x for x in arr if x == pivot]\n",
    "    right = [x for x in arr if x > pivot]\n",
    "    return quicksort(left) + middle + quicksort(right)\n",
    "\n",
    "print (quicksort([3,6,8,10,1,2,1,4,7]))"
   ]
  },
  {
   "cell_type": "markdown",
   "metadata": {},
   "source": [
    "### 5.1. The `lambda` function\n",
    "\n",
    "The `lambda` function, also referred to as *\"Anonymous function\"*, is the same as a regular _python_ function, but it can be defined without a name. It can be useful when we only need to use that function once. While normal functions are defined using the `def` keyword, anonymous functions are defined using the `lambda` keyword. However, they are restricted to single line of expression, and the keyword `return` can  be omitted. The syntax for the `lambda` function is given by: `lambda arguments: expression`. For example"
   ]
  },
  {
   "cell_type": "code",
   "execution_count": 77,
   "metadata": {},
   "outputs": [
    {
     "data": {
      "text/plain": [
       "4"
      ]
     },
     "execution_count": 77,
     "metadata": {},
     "output_type": "execute_result"
    }
   ],
   "source": [
    "func = lambda x: x**2\n",
    "func(2)"
   ]
  },
  {
   "cell_type": "markdown",
   "metadata": {},
   "source": [
    "### 5.2. Applying functions on lists"
   ]
  },
  {
   "cell_type": "markdown",
   "metadata": {},
   "source": [
    "You can also apply functions on lists using the `map` function. For example:"
   ]
  },
  {
   "cell_type": "code",
   "execution_count": 78,
   "metadata": {},
   "outputs": [
    {
     "name": "stdout",
     "output_type": "stream",
     "text": [
      "[1, 4, 9, 16, 25]\n"
     ]
    }
   ],
   "source": [
    "map_func = map(func,[1,2,3,4,5])\n",
    "map_func = list(map_func)\n",
    "print(map_func)"
   ]
  },
  {
   "cell_type": "markdown",
   "metadata": {},
   "source": [
    "Note that `map` returns a `map` object type, which has to be converted to a list for further processing. "
   ]
  },
  {
   "cell_type": "code",
   "execution_count": 79,
   "metadata": {},
   "outputs": [
    {
     "data": {
      "text/plain": [
       "map"
      ]
     },
     "execution_count": 79,
     "metadata": {},
     "output_type": "execute_result"
    }
   ],
   "source": [
    "type(map(func,[1,2,3,4,5]))"
   ]
  },
  {
   "cell_type": "markdown",
   "metadata": {},
   "source": [
    "`map` is essentially a wrapper for a `for` loop. A verbose way to obtain the same result would be:"
   ]
  },
  {
   "cell_type": "code",
   "execution_count": 80,
   "metadata": {},
   "outputs": [
    {
     "name": "stdout",
     "output_type": "stream",
     "text": [
      "[1, 4, 9, 16, 25]\n"
     ]
    }
   ],
   "source": [
    "map_func = []\n",
    "for x in [1,2,3,4,5]:\n",
    "    map_func.append(func(x))\n",
    "print(map_func)"
   ]
  },
  {
   "cell_type": "markdown",
   "metadata": {},
   "source": [
    "Note that the function used in `map` does not have to be pre-defined. A `lambda` statement can also be used:"
   ]
  },
  {
   "cell_type": "code",
   "execution_count": 81,
   "metadata": {},
   "outputs": [
    {
     "name": "stdout",
     "output_type": "stream",
     "text": [
      "['-_-', '-_-', '-_-', '-_-', '-_-']\n"
     ]
    }
   ],
   "source": [
    "map_faces = map(lambda x: \"-_-\", range(5))\n",
    "map_faces = list(map_faces)\n",
    "print(map_faces)"
   ]
  },
  {
   "cell_type": "markdown",
   "metadata": {},
   "source": [
    "## 6. Numerical computing in _python_ using NumPy\n",
    "\n",
    "NumPy is a Python library which provides matrix manipulation capabilities and standard numerical algorithms. NumPy and smart vectorization are the key to fast scientific computing in *python*."
   ]
  },
  {
   "cell_type": "code",
   "execution_count": 82,
   "metadata": {},
   "outputs": [],
   "source": [
    "import numpy as np"
   ]
  },
  {
   "cell_type": "markdown",
   "metadata": {},
   "source": [
    "### 6.1. Arrays\n",
    "Arrays can be easily created from lists:"
   ]
  },
  {
   "cell_type": "code",
   "execution_count": 83,
   "metadata": {},
   "outputs": [
    {
     "name": "stdout",
     "output_type": "stream",
     "text": [
      "[1 2 3 4]\n"
     ]
    }
   ],
   "source": [
    "x = np.array([1,2,3,4]) ## x is a vector\n",
    "print(x)"
   ]
  },
  {
   "cell_type": "markdown",
   "metadata": {},
   "source": [
    "The dimension of a NumPy object is displayed using `.shape`:"
   ]
  },
  {
   "cell_type": "code",
   "execution_count": 84,
   "metadata": {},
   "outputs": [
    {
     "data": {
      "text/plain": [
       "(4,)"
      ]
     },
     "execution_count": 84,
     "metadata": {},
     "output_type": "execute_result"
    }
   ],
   "source": [
    "x.shape"
   ]
  },
  {
   "cell_type": "markdown",
   "metadata": {},
   "source": [
    "Similarly, a NumPy matrix can be defined as:"
   ]
  },
  {
   "cell_type": "code",
   "execution_count": 85,
   "metadata": {},
   "outputs": [
    {
     "name": "stdout",
     "output_type": "stream",
     "text": [
      "[[1 2]\n",
      " [3 4]]\n",
      "(2, 2)\n"
     ]
    }
   ],
   "source": [
    "X = np.array([[1,2], [3,4]])\n",
    "print(X)\n",
    "print(X.shape)"
   ]
  },
  {
   "cell_type": "markdown",
   "metadata": {},
   "source": [
    "To initialise arrays, the functions `zeros` and `ones` are useful, generating NumPy objects filled with zeros and ones respectively: "
   ]
  },
  {
   "cell_type": "code",
   "execution_count": 86,
   "metadata": {},
   "outputs": [
    {
     "name": "stdout",
     "output_type": "stream",
     "text": [
      "[[0. 0.]\n",
      " [0. 0.]]\n",
      "[[1. 1. 1.]\n",
      " [1. 1. 1.]\n",
      " [1. 1. 1.]\n",
      " [1. 1. 1.]]\n"
     ]
    }
   ],
   "source": [
    "X = np.zeros((2,2)); print(X)\n",
    "Y = np.ones((4,3)); print(Y)"
   ]
  },
  {
   "cell_type": "markdown",
   "metadata": {},
   "source": [
    "NumPy also supports dense tensors and higher dimensional objects, for example:"
   ]
  },
  {
   "cell_type": "code",
   "execution_count": 87,
   "metadata": {},
   "outputs": [
    {
     "name": "stdout",
     "output_type": "stream",
     "text": [
      "[[[[0. 0. 0.]\n",
      "   [0. 0. 0.]]\n",
      "\n",
      "  [[0. 0. 0.]\n",
      "   [0. 0. 0.]]]\n",
      "\n",
      "\n",
      " [[[0. 0. 0.]\n",
      "   [0. 0. 0.]]\n",
      "\n",
      "  [[0. 0. 0.]\n",
      "   [0. 0. 0.]]]\n",
      "\n",
      "\n",
      " [[[0. 0. 0.]\n",
      "   [0. 0. 0.]]\n",
      "\n",
      "  [[0. 0. 0.]\n",
      "   [0. 0. 0.]]]]\n"
     ]
    }
   ],
   "source": [
    "print(np.zeros((3,2,2,3)))"
   ]
  },
  {
   "cell_type": "markdown",
   "metadata": {},
   "source": [
    "NumPy also includes random number generators, accessed from `np.random`. For example, to generate a $(4\\times4)$-dimensional array where each entry is sampled from $\\mathrm{Uniform}(0,1)$:  "
   ]
  },
  {
   "cell_type": "code",
   "execution_count": 88,
   "metadata": {},
   "outputs": [
    {
     "name": "stdout",
     "output_type": "stream",
     "text": [
      "[[0.67981612 0.03656029 0.96141573 0.66255185]\n",
      " [0.13132647 0.9492596  0.89893677 0.39387492]\n",
      " [0.66360107 0.63508612 0.50774979 0.52249865]\n",
      " [0.11371298 0.26004219 0.58516551 0.05008436]]\n"
     ]
    }
   ],
   "source": [
    "X = np.random.uniform(size=(4,4))\n",
    "print(X)"
   ]
  },
  {
   "cell_type": "markdown",
   "metadata": {},
   "source": [
    "For reproducibility, seeds must be set using `np.random.seed`:"
   ]
  },
  {
   "cell_type": "code",
   "execution_count": 89,
   "metadata": {},
   "outputs": [
    {
     "name": "stdout",
     "output_type": "stream",
     "text": [
      "[[0.4613321  0.67369337 0.81335319]\n",
      " [0.80320322 0.5666697  0.67323459]\n",
      " [0.76095956 0.58214957 0.78265258]\n",
      " [0.9344112  0.35213642 0.88169345]]\n"
     ]
    }
   ],
   "source": [
    "np.random.seed(111)\n",
    "X = np.random.beta(a=4,b=2,size=(4,3))\n",
    "print(X)"
   ]
  },
  {
   "cell_type": "markdown",
   "metadata": {},
   "source": [
    "NumPy arrays also support basic operations over rows and columns, such as `.sum()`, `.mean()`, `.var()` and `.min()`:"
   ]
  },
  {
   "cell_type": "code",
   "execution_count": 90,
   "metadata": {},
   "outputs": [
    {
     "name": "stdout",
     "output_type": "stream",
     "text": [
      "[1.94837866 2.04310751 2.12576172 2.16824108]\n",
      "[0.73997652 0.54366227 0.78773345]\n",
      "[0.4613321  0.35213642 0.67323459]\n",
      "0.35213642363305775\n",
      "0.027663442475062066\n"
     ]
    }
   ],
   "source": [
    "print(X.sum(axis=1))\n",
    "print(X.mean(axis=0))\n",
    "print(X.min(axis=0))\n",
    "print(X.min())\n",
    "print(X.var())"
   ]
  },
  {
   "cell_type": "markdown",
   "metadata": {},
   "source": [
    "This also applies to higher dimensional objects:"
   ]
  },
  {
   "cell_type": "code",
   "execution_count": 91,
   "metadata": {},
   "outputs": [
    {
     "name": "stdout",
     "output_type": "stream",
     "text": [
      "Mean on first axis:\n",
      " [[3.15106871 3.29134805 2.95676832 3.29983618]\n",
      " [3.00423519 3.00816076 2.66013261 3.21306161]\n",
      " [2.8404901  2.89721719 2.8745424  2.93422951]\n",
      " [2.91372341 2.86853653 3.05803507 3.29338249]] \n",
      "\n",
      "Variance on first and last axis:\n",
      " [3.93974102 3.97272413 4.0292262  4.05713126]\n"
     ]
    }
   ],
   "source": [
    "np.random.seed(111)\n",
    "Y = np.random.normal(loc=3,scale=2,size=(100,4,4))\n",
    "print('Mean on first axis:\\n', Y.mean(axis=0), '\\n')\n",
    "print('Variance on first and last axis:\\n', Y.var(axis=(0,2)))"
   ]
  },
  {
   "cell_type": "markdown",
   "metadata": {},
   "source": [
    "More complex functions can be applied on rows or columns using `np.apply_along_axis`, which is similar to `apply` in *R*:"
   ]
  },
  {
   "cell_type": "code",
   "execution_count": 92,
   "metadata": {},
   "outputs": [
    {
     "data": {
      "text/plain": [
       "array([0.16440456, 0.10274092, 0.1864133 ])"
      ]
     },
     "execution_count": 92,
     "metadata": {},
     "output_type": "execute_result"
    }
   ],
   "source": [
    "np.apply_along_axis(func1d=lambda x: np.exp((np.log(x + 1) - 1).sum()), arr=X, axis=0)"
   ]
  },
  {
   "cell_type": "markdown",
   "metadata": {},
   "source": [
    "For example, what does the function above do? "
   ]
  },
  {
   "cell_type": "markdown",
   "metadata": {},
   "source": [
    "The shape of NumPy arrays can be modified using `.reshape`: "
   ]
  },
  {
   "cell_type": "code",
   "execution_count": 93,
   "metadata": {},
   "outputs": [
    {
     "name": "stdout",
     "output_type": "stream",
     "text": [
      "[[0.4613321  0.67369337]\n",
      " [0.81335319 0.80320322]\n",
      " [0.5666697  0.67323459]\n",
      " [0.76095956 0.58214957]\n",
      " [0.78265258 0.9344112 ]\n",
      " [0.35213642 0.88169345]]\n"
     ]
    }
   ],
   "source": [
    "X2 = X.reshape((6,2))\n",
    "print(X2)"
   ]
  },
  {
   "cell_type": "markdown",
   "metadata": {},
   "source": [
    "Note that reshaping is only valid if the product of the dimensions before and after reshaping is the same:"
   ]
  },
  {
   "cell_type": "code",
   "execution_count": 94,
   "metadata": {},
   "outputs": [
    {
     "data": {
      "text/plain": [
       "True"
      ]
     },
     "execution_count": 94,
     "metadata": {},
     "output_type": "execute_result"
    }
   ],
   "source": [
    "np.prod(X.shape) == np.prod(X2.shape)"
   ]
  },
  {
   "cell_type": "markdown",
   "metadata": {},
   "source": [
    "Note that arrays are reshaped **by row** (C-style). Alternatively, arrays can be reshaped using the option `order='F'` (Fortran-style:) "
   ]
  },
  {
   "cell_type": "code",
   "execution_count": 95,
   "metadata": {},
   "outputs": [
    {
     "name": "stdout",
     "output_type": "stream",
     "text": [
      "X before reshaping:\n",
      "[[0.4613321  0.67369337 0.81335319]\n",
      " [0.80320322 0.5666697  0.67323459]\n",
      " [0.76095956 0.58214957 0.78265258]\n",
      " [0.9344112  0.35213642 0.88169345]]\n",
      "\n",
      "X reshaped in C-style:\n",
      "[[0.4613321  0.67369337]\n",
      " [0.81335319 0.80320322]\n",
      " [0.5666697  0.67323459]\n",
      " [0.76095956 0.58214957]\n",
      " [0.78265258 0.9344112 ]\n",
      " [0.35213642 0.88169345]]\n",
      "\n",
      "X reshaped in Fortran-style:\n",
      "[[0.4613321  0.58214957]\n",
      " [0.80320322 0.35213642]\n",
      " [0.76095956 0.81335319]\n",
      " [0.9344112  0.67323459]\n",
      " [0.67369337 0.78265258]\n",
      " [0.5666697  0.88169345]]\n",
      "\n"
     ]
    }
   ],
   "source": [
    "print('X before reshaping:', X, sep='\\n', end='\\n\\n')\n",
    "print('X reshaped in C-style:', X2, sep='\\n', end='\\n\\n')\n",
    "print('X reshaped in Fortran-style:', X.reshape((6,2), order='F'), sep='\\n', end='\\n\\n')"
   ]
  },
  {
   "cell_type": "markdown",
   "metadata": {},
   "source": [
    "### 6.2. Indexing in NumPy\n",
    "Indexing in NumPy is very similar to that of lists. For example, to select all rows except the first, and *all* columns:"
   ]
  },
  {
   "cell_type": "code",
   "execution_count": 96,
   "metadata": {},
   "outputs": [
    {
     "data": {
      "text/plain": [
       "array([[0.80320322, 0.5666697 , 0.67323459],\n",
       "       [0.76095956, 0.58214957, 0.78265258],\n",
       "       [0.9344112 , 0.35213642, 0.88169345]])"
      ]
     },
     "execution_count": 96,
     "metadata": {},
     "output_type": "execute_result"
    }
   ],
   "source": [
    "X[1:] ## remove the first row"
   ]
  },
  {
   "cell_type": "markdown",
   "metadata": {},
   "source": [
    "Or, to select columns 2 and 0 (in this order) and all rows:"
   ]
  },
  {
   "cell_type": "code",
   "execution_count": 97,
   "metadata": {},
   "outputs": [
    {
     "data": {
      "text/plain": [
       "array([[0.81335319, 0.4613321 ],\n",
       "       [0.67323459, 0.80320322],\n",
       "       [0.78265258, 0.76095956],\n",
       "       [0.88169345, 0.9344112 ]])"
      ]
     },
     "execution_count": 97,
     "metadata": {},
     "output_type": "execute_result"
    }
   ],
   "source": [
    "X[:,[2,0]]"
   ]
  },
  {
   "cell_type": "markdown",
   "metadata": {},
   "source": [
    "A powerful indexing feature can also be achieved through logical indexing. A boolean array can be easily obtained  from a NumPy array:"
   ]
  },
  {
   "cell_type": "code",
   "execution_count": 98,
   "metadata": {
    "scrolled": true
   },
   "outputs": [
    {
     "data": {
      "text/plain": [
       "array([[ True, False, False],\n",
       "       [False, False, False],\n",
       "       [False, False, False],\n",
       "       [False,  True, False]])"
      ]
     },
     "execution_count": 98,
     "metadata": {},
     "output_type": "execute_result"
    }
   ],
   "source": [
    "X < 0.5"
   ]
  },
  {
   "cell_type": "markdown",
   "metadata": {},
   "source": [
    "Boolean NumpPy arrays can be used to index other Numpy arrays:"
   ]
  },
  {
   "cell_type": "code",
   "execution_count": 99,
   "metadata": {},
   "outputs": [
    {
     "data": {
      "text/plain": [
       "array([0.4613321 , 0.35213642])"
      ]
     },
     "execution_count": 99,
     "metadata": {},
     "output_type": "execute_result"
    }
   ],
   "source": [
    "X[X < 0.5] ### subset of elements of X that are smaller than 0.5"
   ]
  },
  {
   "cell_type": "code",
   "execution_count": 100,
   "metadata": {},
   "outputs": [
    {
     "data": {
      "text/plain": [
       "array([[0.4613321 , 0.81335319],\n",
       "       [0.80320322, 0.67323459],\n",
       "       [0.76095956, 0.78265258],\n",
       "       [0.9344112 , 0.88169345]])"
      ]
     },
     "execution_count": 100,
     "metadata": {},
     "output_type": "execute_result"
    }
   ],
   "source": [
    "X[:,X.mean(axis=0) > 0.7]"
   ]
  },
  {
   "cell_type": "markdown",
   "metadata": {},
   "source": [
    "### 6.3. Basic math with NumPy arrays"
   ]
  },
  {
   "cell_type": "markdown",
   "metadata": {},
   "source": [
    "There are two ways to sum two NumPy arrays having the same shape: `+` and `np.add`:"
   ]
  },
  {
   "cell_type": "code",
   "execution_count": 101,
   "metadata": {},
   "outputs": [
    {
     "name": "stdout",
     "output_type": "stream",
     "text": [
      "[[ 6.  8.]\n",
      " [10. 12.]]\n",
      "[[ 6.  8.]\n",
      " [10. 12.]]\n"
     ]
    }
   ],
   "source": [
    "x = np.array([[1,2],[3,4]], dtype=np.float64)\n",
    "y = np.array([[5,6],[7,8]], dtype=np.float64)\n",
    "print(x + y)\n",
    "print(np.add(x, y))"
   ]
  },
  {
   "cell_type": "markdown",
   "metadata": {},
   "source": [
    "Similarly, it is possible to subtract, multiply and divide using `-`, `*` and `/`, or `np.subtract`, `np.multiply` and `np.divide`:"
   ]
  },
  {
   "cell_type": "code",
   "execution_count": 102,
   "metadata": {},
   "outputs": [
    {
     "name": "stdout",
     "output_type": "stream",
     "text": [
      "[[-4. -4.]\n",
      " [-4. -4.]]\n",
      "[[-4. -4.]\n",
      " [-4. -4.]]\n"
     ]
    }
   ],
   "source": [
    "print(x - y)\n",
    "print(np.subtract(x, y))"
   ]
  },
  {
   "cell_type": "code",
   "execution_count": 103,
   "metadata": {},
   "outputs": [
    {
     "name": "stdout",
     "output_type": "stream",
     "text": [
      "[[ 5. 12.]\n",
      " [21. 32.]]\n",
      "[[ 5. 12.]\n",
      " [21. 32.]]\n"
     ]
    }
   ],
   "source": [
    "print(x * y)\n",
    "print(np.multiply(x, y))"
   ]
  },
  {
   "cell_type": "code",
   "execution_count": 104,
   "metadata": {},
   "outputs": [
    {
     "name": "stdout",
     "output_type": "stream",
     "text": [
      "[[0.2        0.33333333]\n",
      " [0.42857143 0.5       ]]\n",
      "[[0.2        0.33333333]\n",
      " [0.42857143 0.5       ]]\n"
     ]
    }
   ],
   "source": [
    "print(x / y)\n",
    "print(np.divide(x, y))"
   ]
  },
  {
   "cell_type": "markdown",
   "metadata": {},
   "source": [
    "The matrix product between two arrays of compatible shape is calculated with the function `np.dot`:"
   ]
  },
  {
   "cell_type": "code",
   "execution_count": 105,
   "metadata": {},
   "outputs": [
    {
     "data": {
      "text/plain": [
       "array([[19., 22.],\n",
       "       [43., 50.]])"
      ]
     },
     "execution_count": 105,
     "metadata": {},
     "output_type": "execute_result"
    }
   ],
   "source": [
    "np.dot(x,y)"
   ]
  },
  {
   "cell_type": "markdown",
   "metadata": {},
   "source": [
    "The transposed of a matrix is simply obtained with `.T`, or `np.transpose`:"
   ]
  },
  {
   "cell_type": "code",
   "execution_count": 106,
   "metadata": {},
   "outputs": [
    {
     "name": "stdout",
     "output_type": "stream",
     "text": [
      "[[1. 3.]\n",
      " [2. 4.]]\n",
      "[[1. 3.]\n",
      " [2. 4.]]\n"
     ]
    }
   ],
   "source": [
    "print(x.T)\n",
    "print(np.transpose(x))"
   ]
  },
  {
   "cell_type": "markdown",
   "metadata": {},
   "source": [
    "### 6.4. Broadcasting\n",
    "The term _broadcasting_ describes how NumPy handles arrays with different shapes for arithmetic operations. In general, the smaller array is \"broadcast\" across the larger array so that they have compatible shapes. When operating on two arrays, NumPy compares their shapes element-wise. It starts with the trailing (i.e. rightmost) dimensions and works its way left. Two dimensions are compatible when:\n",
    "- they are equal, or\n",
    "- one of them is 1.\n"
   ]
  },
  {
   "cell_type": "code",
   "execution_count": 107,
   "metadata": {},
   "outputs": [
    {
     "name": "stdout",
     "output_type": "stream",
     "text": [
      "x = [[ 0  1  2]\n",
      " [ 3  4  5]\n",
      " [ 6  7  8]\n",
      " [ 9 10 11]]\n",
      "\n",
      "y =  [0 1 2]\n",
      "\n",
      "x + y = [[ 0  2  4]\n",
      " [ 3  5  7]\n",
      " [ 6  8 10]\n",
      " [ 9 11 13]]\n"
     ]
    }
   ],
   "source": [
    "x = np.arange(12).reshape((4,3))\n",
    "y = np.arange(3)\n",
    "print('x =', x, end='\\n\\n')\n",
    "print('y = ', y, end='\\n\\n')\n",
    "print('x + y =', x+y)"
   ]
  },
  {
   "cell_type": "markdown",
   "metadata": {},
   "source": [
    "In this case, broadcasting is essentially equivalent to:"
   ]
  },
  {
   "cell_type": "code",
   "execution_count": 108,
   "metadata": {},
   "outputs": [
    {
     "data": {
      "text/plain": [
       "array([[ 0,  2,  4],\n",
       "       [ 3,  5,  7],\n",
       "       [ 6,  8, 10],\n",
       "       [ 9, 11, 13]])"
      ]
     },
     "execution_count": 108,
     "metadata": {},
     "output_type": "execute_result"
    }
   ],
   "source": [
    "np.apply_along_axis(func1d = lambda q: q + y, arr=x, axis=1)"
   ]
  },
  {
   "cell_type": "markdown",
   "metadata": {},
   "source": [
    "Both methods are means of vectorising operations in *python*. The only difference is that, with broadcasting, looping occurs in *C* instead of *python*. "
   ]
  },
  {
   "cell_type": "markdown",
   "metadata": {},
   "source": [
    "Note that the following code returns an error:"
   ]
  },
  {
   "cell_type": "code",
   "execution_count": 109,
   "metadata": {},
   "outputs": [
    {
     "ename": "ValueError",
     "evalue": "operands could not be broadcast together with shapes (4,3) (4,) ",
     "output_type": "error",
     "traceback": [
      "\u001b[0;31m---------------------------------------------------------------------------\u001b[0m",
      "\u001b[0;31mValueError\u001b[0m                                Traceback (most recent call last)",
      "\u001b[0;32m<ipython-input-109-5f979add7599>\u001b[0m in \u001b[0;36m<module>\u001b[0;34m\u001b[0m\n\u001b[1;32m      1\u001b[0m \u001b[0mx\u001b[0m \u001b[0;34m=\u001b[0m \u001b[0mnp\u001b[0m\u001b[0;34m.\u001b[0m\u001b[0marange\u001b[0m\u001b[0;34m(\u001b[0m\u001b[0;36m12\u001b[0m\u001b[0;34m)\u001b[0m\u001b[0;34m.\u001b[0m\u001b[0mreshape\u001b[0m\u001b[0;34m(\u001b[0m\u001b[0;34m(\u001b[0m\u001b[0;36m4\u001b[0m\u001b[0;34m,\u001b[0m\u001b[0;36m3\u001b[0m\u001b[0;34m)\u001b[0m\u001b[0;34m)\u001b[0m\u001b[0;34m\u001b[0m\u001b[0;34m\u001b[0m\u001b[0m\n\u001b[1;32m      2\u001b[0m \u001b[0mz\u001b[0m \u001b[0;34m=\u001b[0m \u001b[0mnp\u001b[0m\u001b[0;34m.\u001b[0m\u001b[0marange\u001b[0m\u001b[0;34m(\u001b[0m\u001b[0;36m4\u001b[0m\u001b[0;34m)\u001b[0m\u001b[0;34m\u001b[0m\u001b[0;34m\u001b[0m\u001b[0m\n\u001b[0;32m----> 3\u001b[0;31m \u001b[0mx\u001b[0m \u001b[0;34m+\u001b[0m \u001b[0mz\u001b[0m\u001b[0;34m\u001b[0m\u001b[0;34m\u001b[0m\u001b[0m\n\u001b[0m",
      "\u001b[0;31mValueError\u001b[0m: operands could not be broadcast together with shapes (4,3) (4,) "
     ]
    }
   ],
   "source": [
    "x = np.arange(12).reshape((4,3))\n",
    "z = np.arange(4)\n",
    "x + z"
   ]
  },
  {
   "cell_type": "markdown",
   "metadata": {},
   "source": [
    "The error occurs because the two broadcasting rules described at the beginning of this subsection are not met. The solution is to reshape the array `y` to have dimension `(4,1)`. A convenient way to do this is:"
   ]
  },
  {
   "cell_type": "code",
   "execution_count": 110,
   "metadata": {},
   "outputs": [
    {
     "name": "stdout",
     "output_type": "stream",
     "text": [
      "Shape of z: (4, 1) \t Shape of y: (3,)\n"
     ]
    }
   ],
   "source": [
    "z = z.reshape(-1,1)\n",
    "print('Shape of z:', z.shape, '\\t Shape of y:', y.shape)"
   ]
  },
  {
   "cell_type": "markdown",
   "metadata": {},
   "source": [
    "After this simple reshaping operation, broadcasing works as expected:"
   ]
  },
  {
   "cell_type": "code",
   "execution_count": 111,
   "metadata": {},
   "outputs": [
    {
     "name": "stdout",
     "output_type": "stream",
     "text": [
      "x - y = [[0 1 2]\n",
      " [2 3 4]\n",
      " [4 5 6]\n",
      " [6 7 8]] \n",
      "\n",
      "x . y = [[ 0  0  0]\n",
      " [ 3  4  5]\n",
      " [12 14 16]\n",
      " [27 30 33]]\n"
     ]
    }
   ],
   "source": [
    "print('x - y =', x - z, '\\n')\n",
    "print('x . y =', np.multiply(x, z))"
   ]
  },
  {
   "cell_type": "markdown",
   "metadata": {},
   "source": [
    "## 7. Plotting with Matplotlib\n",
    "*Matplotlib* is the most common plotting library in *python*. It is usually imported with the name `plt`. Plots can be displayed inline in Jupyter by running `%matplotlib inline`. "
   ]
  },
  {
   "cell_type": "code",
   "execution_count": 112,
   "metadata": {},
   "outputs": [],
   "source": [
    "import matplotlib.pyplot as plt\n",
    "%matplotlib inline"
   ]
  },
  {
   "cell_type": "markdown",
   "metadata": {},
   "source": [
    "The `plot` function can be used to to plot 2-dimensional data. The format of the function is `(x-axis values, y-axis values, style)`. For example:"
   ]
  },
  {
   "cell_type": "code",
   "execution_count": 113,
   "metadata": {},
   "outputs": [
    {
     "data": {
      "image/png": "[encoded data removed]",
      "text/plain": [
       "<Figure size 432x288 with 1 Axes>"
      ]
     },
     "metadata": {
      "needs_background": "light"
     },
     "output_type": "display_data"
    }
   ],
   "source": [
    "plt.plot([1,2,3,4], [1,4,9,16], 'ro')\n",
    "plt.axis([0, 6, 0, 20]) # changes the default axis length\n",
    "plt.show()"
   ]
  },
  {
   "cell_type": "markdown",
   "metadata": {},
   "source": [
    "Unlike *R*, in Matplotlib plots are not displayed until the command `plt.show()` is run. If other `plt.plot()` commands are run before `plt.show()`, the corresponding points or curves are plotted in the same figure. Also, Matplotlib admits $\\LaTeX$-style formatting for text and labels. For example: "
   ]
  },
  {
   "cell_type": "code",
   "execution_count": 114,
   "metadata": {
    "scrolled": true
   },
   "outputs": [
    {
     "data": {
      "image/png": "[encoded data removed]",
      "text/plain": [
       "<Figure size 432x288 with 1 Axes>"
      ]
     },
     "metadata": {
      "needs_background": "light"
     },
     "output_type": "display_data"
    }
   ],
   "source": [
    "t = np.arange(start=0., stop=5., step=0.2)\n",
    "plt.plot(t, t, 'r--')\n",
    "plt.plot(t, t**2, 'bs')\n",
    "plt.plot(t, t**3, 'g^')\n",
    "plt.xlabel('$t$')\n",
    "plt.ylabel('$f(t)$')\n",
    "plt.title('Curves')\n",
    "plt.legend(['$t$', '$t^2$', '$t^3$'])\n",
    "plt.show()"
   ]
  },
  {
   "cell_type": "markdown",
   "metadata": {},
   "source": [
    "Different curves can be plotted in the same figure using the ```subplot``` function. "
   ]
  },
  {
   "cell_type": "code",
   "execution_count": 115,
   "metadata": {},
   "outputs": [
    {
     "data": {
      "image/png": "[encoded data removed]",
      "text/plain": [
       "<Figure size 432x288 with 2 Axes>"
      ]
     },
     "metadata": {
      "needs_background": "light"
     },
     "output_type": "display_data"
    }
   ],
   "source": [
    "def f(t):\n",
    "    return np.exp(-t) * np.cos(2*np.pi*t)\n",
    "\n",
    "t1 = np.arange(0.0, 5.0, 0.1)\n",
    "t2 = np.arange(0.0, 5.0, 0.02)\n",
    "\n",
    "plt.figure(1)\n",
    "plt.subplot(211)\n",
    "plt.plot(t1, f(t1), 'bo', t2, f(t2), 'k')\n",
    "\n",
    "plt.subplot(212)\n",
    "plt.plot(t2, np.cos(2*np.pi*t2), 'r--')\n",
    "plt.show()"
   ]
  },
  {
   "cell_type": "markdown",
   "metadata": {},
   "source": [
    "## Exercises\n",
    "1. [🌶️] In this question, you will plot the *blancmange curve*, a fractal function which is uniformly continuous but nowhere differentiable. For $x\\in[0,1]$, the blancmange curve is defined as:\n",
    "$$ b(x) = \\sum_{n=0}^\\infty \\frac{\\min_{m\\in\\mathbb Z}\\vert{2^nx-m}\\vert}{2^n}. $$\n",
    "The function can be evaluated at $2^{12}$ points equally spaced in $[0,1]$, using the following algorithm:\n",
    "    - Create a vector $\\mathbf a$ of length $2^{12}$ containing only 0's.\n",
    "    - Create a vector $\\mathbf b$ of length $2^{12}$ of the form $2^{-12}\\times(1,2,\\dots,2^{11}-1,2^{11},2^{11},2^{11}-1,\\dots,2,1)$.\n",
    "    - Set $c=1/2$.\n",
    "    - For $i=1,2,\\dots,10$:\n",
    "        - Set $\\mathbf a$ to $\\mathbf a+\\mathbf b$.\n",
    "        - Set $\\mathbf b$ to $c\\times(b_2,b_4,b_{2^{12}},b_2,b_4,b_{2^{12}})$, where $b_i$ represents the $i$-th entry of the vector $\\mathbf b$.\n",
    "    \n",
    "The vector $\\mathbf a$ then contains the value of the blancmange curve evaluated at $2^{-12}\\times(1,2,\\dots,2^{12})$. \n",
    "Implement the above algorithm in *python*, and plot the resulting curve. Your plot should be similar to [this](https://en.wikipedia.org/wiki/Blancmange_curve) (or [this](https://en.wikipedia.org/wiki/Blancmange) 😊). \n",
    "\n",
    "\n",
    "2. [🌶️🌶️] Consider the function\n",
    "\\begin{equation}\n",
    "f:[0,1]\\to[0,1],\\ f(x)=1-\\exp\\{\\sin^2(\\pi x)\\}\\cos^2(\\pi x).\n",
    "\\end{equation}\n",
    "In this question, you will code a very simple Monte-Carlo estimate of the integral \n",
    "\\begin{equation}\n",
    "\\int_0^1 f(x) \\mathrm dx. \\label{integral}\n",
    "\\end{equation}\n",
    "The idea behind Monte-Carlo integration is simple: the probability that a random sample from the uniform distribution on $[0,1]^2$ falls *below* $f(x)$ is simply the area of the function, corresponding to the integral in the equation above.\n",
    "    1. Write code to draw $n=10000$ points $(x_i,y_i)$ from the uniform distribution on $[0,1]^2$. Then, estimate the integral above as the proportion of points such that $y_i\\leq f(x_i)$.\n",
    "    2. Define a function that takes as argument the number of points $n$, and evaluates the integral using $n$ samples using the procedure described above. Use your function to plot the results for different values of $n$, and compare your result with the output of the function `scipy.integrate` (see the [documentation](https://docs.scipy.org/doc/scipy/reference/tutorial/integrate.html)). Present your findings in a plot.  \n",
    "    3. Produce a plot of $f(x)$ for $x\\in[0,1]$ in *black*, and add $n=250$ points randomly sampled from the uniform distribution on $[0,1]^2$. Colour the points in *green* if the condition $y_i\\leq f(x_i)$ is satisfied, in *red* otherwise. \n",
    "\n",
    "\n",
    "3. [🌶️🌶️🌶️] In this question, you will code a numerical estimate of the integral \n",
    "\\begin{equation}\n",
    "\\int_a^b f(x) \\mathrm dx.\n",
    "\\end{equation}\n",
    "In particular, you will code up a method called *Simpson's rule*. Consider a sequence $x_1,\\dots,x_n$ such that $a<x_1<x_2<\\cdots<x_n<b$. Then:\n",
    "\\begin{equation}\n",
    "\\int_a^b f(x) \\mathrm dx = \\int_a^{x_1} f(x) \\mathrm dx + \\sum_{i=1}^{n-1} \\int_{x_i}^{x_{i+1}} f(x) \\mathrm dx + \\int_{x_n}^b f(x) \\mathrm dx.\n",
    "\\end{equation}\n",
    "Simpson's rule assumes that, in the intervals $(a,x_1)$, $(x_n,b)$, and each $(x_i,x_{i+1})$, the function $f(\\cdot)$ can be approximated by a quadratic equation $q(x)=\\alpha x^2+\\beta x+\\gamma$. Let us suppose that we want to approximate the integral in the range $(x_i,x_{i+1})$. Let us define the point $x_\\star$ as the midpoint $(x_{i+1}-x_i)/2$. The coefficients $\\alpha,\\ \\beta$ and $\\gamma$ of the parabola passing through $f(x_i)$, $f(x_\\star)$ and $f(x_{i+1})$ are the solution of the following system of equations in matrix form:\n",
    "\\begin{equation}\n",
    "\\begin{bmatrix} x_i^2 & x_i & 1 \\\\ x_\\star^2 & x_\\star & 1 \\\\ x_{i+1}^2 & x_{i+1} & 1 \\end{bmatrix}\\begin{bmatrix}\\alpha \\\\ \\beta \\\\ \\gamma \\end{bmatrix} = \\begin{bmatrix} f(x_i) \\\\ f(x_\\star) \\\\ f(x_{i+1}) \\end{bmatrix}. \\label{system}\n",
    "\\end{equation}\n",
    "If we denote with $\\hat\\alpha$, $\\hat\\beta$ and $\\hat\\gamma$ the estimated coefficient, the integral can now be approximated as follows:\n",
    "\\begin{equation} \n",
    "\\int_{x_i}^{x_{i+1}} f(x)\\mathrm dx \\approx \\int_{x_i}^{x_{i+1}} (\\hat\\alpha x^2+\\hat\\beta x+\\hat\\gamma) \\mathrm dx = \\left[\\hat\\alpha\\frac{x^3}{3} + \\hat\\beta\\frac{x^2}{2}+\\hat\\gamma x \\right]_{x_{i}}^{x_{i+1}}, \\label{solution}\n",
    "\\end{equation}\n",
    "which can be easily evaluated.\n",
    "    1. Define a function `f`, which takes a single argument `x`, and returns the value of $f(x)$, where $f(\\cdot)$ is defined as:\n",
    "\\begin{equation}\n",
    "f(x)=\\sin(2\\pi x)+\\frac{1}{2}\\cos(\\pi x)+\\frac{1}{10}\\cos(5\\pi x).\n",
    "\\end{equation}\n",
    "    2. Define a function `parabola_approx`, which takes as arguments a function `f` and two floats `x1` and `x2`, and calculates the solution to the system of equations:\n",
    "\\begin{equation}\n",
    "\\begin{bmatrix} x_1^2 & x_1 & 1 \\\\ x_\\star^2 & x_\\star & 1 \\\\ x_2^2 & x_2 & 1 \\end{bmatrix}\\begin{bmatrix}\\alpha \\\\ \\beta \\\\ \\gamma \\end{bmatrix} = \\begin{bmatrix} f(x_i) \\\\ f(x_\\star) \\\\ f(x_2) \\end{bmatrix},\n",
    "\\end{equation}\n",
    "where $x_\\star$ is the midpoint $(x_2-x_1)/2$.\n",
    "You should make use of the function `numpy.linalg.solve` (see the [documentation](https://numpy.org/doc/stable/reference/generated/numpy.linalg.solve.html)) to obtain the solution of the linear system.\n",
    "Then, `parabola_approx` should return the approximation of the integral on $(x_1,x_2)$ as:\n",
    "\\begin{equation}\n",
    "\\left[\\hat\\alpha\\frac{x^3}{3} + \\hat\\beta\\frac{x^2}{2}+\\hat\\gamma x \\right]_{x_1}^{x_2}.\n",
    "\\end{equation}\n",
    "    3. Define a function `simpson`, which takes as arguments a function `f`, two extremes of integration `a` and `b`, and the number of intervals `m` to use in the approximation. In the function, run `parabola.approx` on each of the intervals. The function should return the sum of the approximations obtained for each interval, which is the numerical approximation of the integral of interest.   \n",
    "    4. Using `simpson`, evaluate the integral for $f(\\cdot)$ as in part A between $a=0$ and $b=5/2$, repeating for a different values of $m$. Compare the results with the output of the function `scipy.integrate`.\n",
    "    5. Produce a plot of the results of the previous part, with $m$ on the $x$-axis and the output of `simpson` on the $y$-axis. Use $m=1,\\dots,15$. Using a different line type and colour, add a horizontal line corresponding to the output of `integrate` (check the function `axhline` in `matplotlib.pyplot`)."
   ]
  },
  {
   "cell_type": "markdown",
   "metadata": {},
   "source": [
    "## References"
   ]
  },
  {
   "cell_type": "markdown",
   "metadata": {},
   "source": [
    "* http://nbviewer.jupyter.org/github/Jay-Oh-eN/happy-healthy-hungry/blob/master/h3.ipynb\n",
    "* http://www.tutorialspoint.com/python\n",
    "* http://matplotlib.org/users/pyplot_tutorial.html\n",
    "* https://github.com/kuleshov/cs228-material/blob/master/tutorials/python/cs228-python-tutorial.ipynb"
   ]
  },
  {
   "cell_type": "markdown",
   "metadata": {},
   "source": [
    "## Other resources \n",
    "\n",
    "* [NLTK](https://www.nltk.org) for more advanced Natural Language Processing (NLP) tools in *python*;\n",
    "* [Pandas](https://pandas.pydata.org) for data gymnastics on structured datasets;\n",
    "* [matplotlib](https://matplotlib.org/2.0.2/gallery.html) to learn how to generate fancy plots."
   ]
  }
 ],
 "metadata": {
  "kernelspec": {
   "display_name": "Python 3",
   "language": "python",
   "name": "python3"
  },
  "language_info": {
   "codemirror_mode": {
    "name": "ipython",
    "version": 3
   },
   "file_extension": ".py",
   "mimetype": "text/x-python",
   "name": "python",
   "nbconvert_exporter": "python",
   "pygments_lexer": "ipython3",
   "version": "3.8.0"
  }
 },
 "nbformat": 4,
 "nbformat_minor": 5
}
